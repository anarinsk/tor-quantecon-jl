{
 "cells": [
  {
   "cell_type": "markdown",
   "metadata": {},
   "source": [
    "# Reference\n",
    "\n",
    "https://julia.quantecon.org/getting_started_julia/julia_essentials.html"
   ]
  },
  {
   "cell_type": "code",
   "execution_count": 1,
   "metadata": {},
   "outputs": [
    {
     "name": "stderr",
     "output_type": "stream",
     "text": [
      "\u001b[32m\u001b[1m   Updating\u001b[22m\u001b[39m registry at `/opt/julia/registries/General`\n",
      "######################################################################### 100.0%\n",
      "\u001b[32m\u001b[1m  Resolving\u001b[22m\u001b[39m package versions...\n",
      "\u001b[32m\u001b[1m  Installed\u001b[22m\u001b[39m DataValueInterfaces ──────────── v1.0.0\n",
      "\u001b[32m\u001b[1m  Installed\u001b[22m\u001b[39m Expokit ──────────────────────── v0.2.0\n",
      "\u001b[32m\u001b[1m  Installed\u001b[22m\u001b[39m CodeTracking ─────────────────── v1.0.5\n",
      "\u001b[32m\u001b[1m  Installed\u001b[22m\u001b[39m InstantiateFromURL ───────────── v0.5.0\n",
      "\u001b[32m\u001b[1m  Installed\u001b[22m\u001b[39m Measures ─────────────────────── v0.3.1\n",
      "\u001b[32m\u001b[1m  Installed\u001b[22m\u001b[39m Unitful ──────────────────────── v1.5.0\n",
      "\u001b[32m\u001b[1m  Installed\u001b[22m\u001b[39m LineSearches ─────────────────── v7.1.0\n",
      "\u001b[32m\u001b[1m  Installed\u001b[22m\u001b[39m UnPack ───────────────────────── v0.1.0\n",
      "\u001b[32m\u001b[1m  Installed\u001b[22m\u001b[39m AbstractFFTs ─────────────────── v0.5.0\n",
      "\u001b[32m\u001b[1m  Installed\u001b[22m\u001b[39m LaTeXStrings ─────────────────── v1.2.0\n",
      "\u001b[32m\u001b[1m  Installed\u001b[22m\u001b[39m Primes ───────────────────────── v0.5.0\n",
      "\u001b[32m\u001b[1m  Installed\u001b[22m\u001b[39m DataStructures ───────────────── v0.17.20\n",
      "\u001b[32m\u001b[1m  Installed\u001b[22m\u001b[39m Contour ──────────────────────── v0.5.5\n",
      "\u001b[32m\u001b[1m  Installed\u001b[22m\u001b[39m PkgTemplates ─────────────────── v0.7.13\n",
      "\u001b[32m\u001b[1m  Installed\u001b[22m\u001b[39m Formatting ───────────────────── v0.4.1\n",
      "\u001b[32m\u001b[1m  Installed\u001b[22m\u001b[39m MUMPS_seq_jll ────────────────── v5.2.1+4\n",
      "\u001b[32m\u001b[1m  Installed\u001b[22m\u001b[39m ArrayInterface ───────────────── v2.13.7\n",
      "\u001b[32m\u001b[1m  Installed\u001b[22m\u001b[39m Compat ───────────────────────── v2.2.1\n",
      "\u001b[32m\u001b[1m  Installed\u001b[22m\u001b[39m ExponentialUtilities ─────────── v1.8.0\n",
      "\u001b[32m\u001b[1m  Installed\u001b[22m\u001b[39m Polynomials ──────────────────── v1.1.11\n",
      "\u001b[32m\u001b[1m  Installed\u001b[22m\u001b[39m TreeViews ────────────────────── v0.3.0\n",
      "\u001b[32m\u001b[1m  Installed\u001b[22m\u001b[39m x265_jll ─────────────────────── v3.0.0+3\n",
      "\u001b[32m\u001b[1m  Installed\u001b[22m\u001b[39m DocStringExtensions ──────────── v0.8.3\n",
      "\u001b[32m\u001b[1m  Installed\u001b[22m\u001b[39m RandomNumbers ────────────────── v1.4.0\n",
      "\u001b[32m\u001b[1m  Installed\u001b[22m\u001b[39m FiniteDiff ───────────────────── v2.7.1\n",
      "\u001b[32m\u001b[1m  Installed\u001b[22m\u001b[39m DiffRules ────────────────────── v1.0.1\n",
      "\u001b[32m\u001b[1m  Installed\u001b[22m\u001b[39m GPUCompiler ──────────────────── v0.6.1\n",
      "\u001b[32m\u001b[1m  Installed\u001b[22m\u001b[39m GeometryBasics ───────────────── v0.3.3\n",
      "\u001b[32m\u001b[1m  Installed\u001b[22m\u001b[39m PlotUtils ────────────────────── v1.0.7\n",
      "\u001b[32m\u001b[1m  Installed\u001b[22m\u001b[39m Arpack ───────────────────────── v0.4.0\n",
      "\u001b[32m\u001b[1m  Installed\u001b[22m\u001b[39m ExprTools ────────────────────── v0.1.3\n",
      "\u001b[32m\u001b[1m  Installed\u001b[22m\u001b[39m MutableArithmetics ───────────── v0.2.11\n",
      "\u001b[32m\u001b[1m  Installed\u001b[22m\u001b[39m OpenBLAS_jll ─────────────────── v0.3.9+5\n",
      "\u001b[32m\u001b[1m  Installed\u001b[22m\u001b[39m Mocking ──────────────────────── v0.7.1\n",
      "\u001b[32m\u001b[1m  Installed\u001b[22m\u001b[39m IterableTables ───────────────── v1.0.0\n",
      "\u001b[32m\u001b[1m  Installed\u001b[22m\u001b[39m ColorTypes ───────────────────── v0.10.9\n",
      "\u001b[32m\u001b[1m  Installed\u001b[22m\u001b[39m CategoricalArrays ────────────── v0.8.3\n",
      "\u001b[32m\u001b[1m  Installed\u001b[22m\u001b[39m Colors ───────────────────────── v0.12.4\n",
      "\u001b[32m\u001b[1m  Installed\u001b[22m\u001b[39m RDatasets ────────────────────── v0.6.10\n",
      "\u001b[32m\u001b[1m  Installed\u001b[22m\u001b[39m CSV ──────────────────────────── v0.7.7\n",
      "\u001b[32m\u001b[1m  Installed\u001b[22m\u001b[39m KernelDensity ────────────────── v0.5.1\n",
      "\u001b[32m\u001b[1m  Installed\u001b[22m\u001b[39m TableTraits ──────────────────── v1.0.0\n",
      "\u001b[32m\u001b[1m  Installed\u001b[22m\u001b[39m LazyBandedMatrices ───────────── v0.2.12\n",
      "\u001b[32m\u001b[1m  Installed\u001b[22m\u001b[39m NodeJS ───────────────────────── v1.1.1\n",
      "\u001b[32m\u001b[1m  Installed\u001b[22m\u001b[39m CanonicalTraits ──────────────── v0.2.3\n",
      "\u001b[32m\u001b[1m  Installed\u001b[22m\u001b[39m Flux ─────────────────────────── v0.11.1\n",
      "\u001b[32m\u001b[1m  Installed\u001b[22m\u001b[39m LLVM ─────────────────────────── v2.0.0\n",
      "\u001b[32m\u001b[1m  Installed\u001b[22m\u001b[39m OpenBLAS32_jll ───────────────── v0.3.10+0\n",
      "\u001b[32m\u001b[1m  Installed\u001b[22m\u001b[39m OpenSSL_jll ──────────────────── v1.1.1+6\n",
      "\u001b[32m\u001b[1m  Installed\u001b[22m\u001b[39m ConstructionBase ─────────────── v1.0.0\n",
      "\u001b[32m\u001b[1m  Installed\u001b[22m\u001b[39m StatsPlots ───────────────────── v0.14.15\n",
      "\u001b[32m\u001b[1m  Installed\u001b[22m\u001b[39m SIMDPirates ──────────────────── v0.8.25\n",
      "\u001b[32m\u001b[1m  Installed\u001b[22m\u001b[39m DiffEqDiffTools ──────────────── v1.7.0\n",
      "\u001b[32m\u001b[1m  Installed\u001b[22m\u001b[39m ArnoldiMethod ────────────────── v0.0.4\n",
      "\u001b[32m\u001b[1m  Installed\u001b[22m\u001b[39m RegressionTables ─────────────── v0.5.0\n",
      "\u001b[32m\u001b[1m  Installed\u001b[22m\u001b[39m LibVPX_jll ───────────────────── v1.9.0+1\n",
      "\u001b[32m\u001b[1m  Installed\u001b[22m\u001b[39m PlotThemes ───────────────────── v2.0.0\n",
      "\u001b[32m\u001b[1m  Installed\u001b[22m\u001b[39m Ipopt_jll ────────────────────── v3.13.2+0\n",
      "\u001b[32m\u001b[1m  Installed\u001b[22m\u001b[39m Setfield ─────────────────────── v0.6.0\n",
      "\u001b[32m\u001b[1m  Installed\u001b[22m\u001b[39m IRTools ──────────────────────── v0.4.1\n",
      "\u001b[32m\u001b[1m  Installed\u001b[22m\u001b[39m ChainRulesCore ───────────────── v0.8.1\n",
      "\u001b[32m\u001b[1m  Installed\u001b[22m\u001b[39m Zygote ───────────────────────── v0.5.1\n",
      "\u001b[32m\u001b[1m  Installed\u001b[22m\u001b[39m DualNumbers ──────────────────── v0.6.2\n",
      "\u001b[32m\u001b[1m  Installed\u001b[22m\u001b[39m CPUTime ──────────────────────── v1.0.0\n",
      "\u001b[32m\u001b[1m  Installed\u001b[22m\u001b[39m MatrixFactorizations ─────────── v0.5.2\n",
      "\u001b[32m\u001b[1m  Installed\u001b[22m\u001b[39m ShiftedArrays ────────────────── v1.0.0\n",
      "\u001b[32m\u001b[1m  Installed\u001b[22m\u001b[39m IntervalSets ─────────────────── v0.5.1\n",
      "\u001b[32m\u001b[1m  Installed\u001b[22m\u001b[39m ForwardDiff ──────────────────── v0.10.12\n",
      "\u001b[32m\u001b[1m  Installed\u001b[22m\u001b[39m Krylov ───────────────────────── v0.5.4\n",
      "\u001b[32m\u001b[1m  Installed\u001b[22m\u001b[39m FastGaussQuadrature ──────────── v0.4.3\n",
      "\u001b[32m\u001b[1m  Installed\u001b[22m\u001b[39m Calculus ─────────────────────── v0.5.1\n",
      "\u001b[32m\u001b[1m  Installed\u001b[22m\u001b[39m FilePaths ────────────────────── v0.8.1\n",
      "\u001b[32m\u001b[1m  Installed\u001b[22m\u001b[39m ResettableStacks ─────────────── v1.0.0\n",
      "\u001b[32m\u001b[1m  Installed\u001b[22m\u001b[39m Roots ────────────────────────── v1.0.5\n",
      "\u001b[32m\u001b[1m  Installed\u001b[22m\u001b[39m PDMats ───────────────────────── v0.9.12\n",
      "\u001b[32m\u001b[1m  Installed\u001b[22m\u001b[39m SparseDiffTools ──────────────── v1.10.1\n",
      "\u001b[32m\u001b[1m  Installed\u001b[22m\u001b[39m FixedEffects ─────────────────── v1.0.0\n",
      "\u001b[32m\u001b[1m  Installed\u001b[22m\u001b[39m NLopt_jll ────────────────────── v2.6.2+0\n",
      "\u001b[32m\u001b[1m  Installed\u001b[22m\u001b[39m LabelledArrays ───────────────── v1.3.0\n",
      "\u001b[32m\u001b[1m  Installed\u001b[22m\u001b[39m Expectations ─────────────────── v1.1.1\n",
      "\u001b[32m\u001b[1m  Installed\u001b[22m\u001b[39m HTTP ─────────────────────────── v0.8.19\n",
      "\u001b[32m\u001b[1m  Installed\u001b[22m\u001b[39m Missings ─────────────────────── v0.4.4\n",
      "\u001b[32m\u001b[1m  Installed\u001b[22m\u001b[39m AxisAlgorithms ───────────────── v1.0.0\n",
      "\u001b[32m\u001b[1m  Installed\u001b[22m\u001b[39m Suppressor ───────────────────── v0.1.1\n",
      "\u001b[32m\u001b[1m  Installed\u001b[22m\u001b[39m BenchmarkTools ───────────────── v0.5.0\n",
      "\u001b[32m\u001b[1m  Installed\u001b[22m\u001b[39m BinaryProvider ───────────────── v0.5.10\n",
      "\u001b[32m\u001b[1m  Installed\u001b[22m\u001b[39m ApproxFunBase ────────────────── v0.3.10\n",
      "\u001b[32m\u001b[1m  Installed\u001b[22m\u001b[39m AlgebraicMultigrid ───────────── v0.2.2\n",
      "\u001b[32m\u001b[1m  Installed\u001b[22m\u001b[39m FastClosures ─────────────────── v0.3.2\n",
      "\u001b[32m\u001b[1m  Installed\u001b[22m\u001b[39m ProgressLogging ──────────────── v0.1.3\n",
      "\u001b[32m\u001b[1m  Installed\u001b[22m\u001b[39m DataAPI ──────────────────────── v1.4.0\n",
      "\u001b[32m\u001b[1m  Installed\u001b[22m\u001b[39m BlackBoxOptim ────────────────── v0.5.0\n",
      "\u001b[32m\u001b[1m  Installed\u001b[22m\u001b[39m libvorbis_jll ────────────────── v1.3.6+6\n",
      "\u001b[32m\u001b[1m  Installed\u001b[22m\u001b[39m DiffEqOperators ──────────────── v4.12.0\n",
      "\u001b[32m\u001b[1m  Installed\u001b[22m\u001b[39m IterTools ────────────────────── v1.3.0\n",
      "\u001b[32m\u001b[1m  Installed\u001b[22m\u001b[39m SpatialIndexing ──────────────── v0.1.2\n",
      "\u001b[32m\u001b[1m  Installed\u001b[22m\u001b[39m Ratios ───────────────────────── v0.4.0\n",
      "\u001b[32m\u001b[1m  Installed\u001b[22m\u001b[39m InvertedIndices ──────────────── v1.0.0\n",
      "\u001b[32m\u001b[1m  Installed\u001b[22m\u001b[39m Glob ─────────────────────────── v1.3.0\n",
      "\u001b[32m\u001b[1m  Installed\u001b[22m\u001b[39m IteratorInterfaceExtensions ──── v1.0.0\n",
      "\u001b[32m\u001b[1m  Installed\u001b[22m\u001b[39m FreeType2_jll ────────────────── v2.10.1+5\n",
      "\u001b[32m\u001b[1m  Installed\u001b[22m\u001b[39m Ogg_jll ──────────────────────── v1.3.4+2\n",
      "\u001b[32m\u001b[1m  Installed\u001b[22m\u001b[39m LeftChildRightSiblingTrees ───── v0.1.2\n",
      "\u001b[32m\u001b[1m  Installed\u001b[22m\u001b[39m Nullables ────────────────────── v1.0.0\n",
      "\u001b[32m\u001b[1m  Installed\u001b[22m\u001b[39m FFMPEG_jll ───────────────────── v4.3.1+4\n",
      "\u001b[32m\u001b[1m  Installed\u001b[22m\u001b[39m BandedMatrices ───────────────── v0.15.15\n",
      "\u001b[32m\u001b[1m  Installed\u001b[22m\u001b[39m NLopt ────────────────────────── v0.6.0\n",
      "\u001b[32m\u001b[1m  Installed\u001b[22m\u001b[39m FileIO ───────────────────────── v1.4.4\n",
      "\u001b[32m\u001b[1m  Installed\u001b[22m\u001b[39m Observables ──────────────────── v0.3.2\n",
      "\u001b[32m\u001b[1m  Installed\u001b[22m\u001b[39m PositiveFactorizations ───────── v0.2.3\n",
      "\u001b[32m\u001b[1m  Installed\u001b[22m\u001b[39m XML2_jll ─────────────────────── v2.9.10+3\n",
      "\u001b[32m\u001b[1m  Installed\u001b[22m\u001b[39m FastTransforms ───────────────── v0.10.3\n",
      "\u001b[32m\u001b[1m  Installed\u001b[22m\u001b[39m ApproxFunOrthogonalPolynomials ─ v0.3.6\n",
      "\u001b[32m\u001b[1m  Installed\u001b[22m\u001b[39m RecursiveArrayTools ──────────── v2.7.2\n",
      "\u001b[32m\u001b[1m  Installed\u001b[22m\u001b[39m TableTraitsUtils ─────────────── v1.0.1\n",
      "\u001b[32m\u001b[1m  Installed\u001b[22m\u001b[39m FriBidi_jll ──────────────────── v1.0.5+6\n",
      "\u001b[32m\u001b[1m  Installed\u001b[22m\u001b[39m JuliaVariables ───────────────── v0.2.3\n",
      "\u001b[32m\u001b[1m  Installed\u001b[22m\u001b[39m FFMPEG ───────────────────────── v0.4.0\n",
      "\u001b[32m\u001b[1m  Installed\u001b[22m\u001b[39m SafeTestsets ─────────────────── v0.0.1\n",
      "\u001b[32m\u001b[1m  Installed\u001b[22m\u001b[39m Widgets ──────────────────────── v0.6.2\n",
      "\u001b[32m\u001b[1m  Installed\u001b[22m\u001b[39m MLStyle ──────────────────────── v0.4.6\n",
      "\u001b[32m\u001b[1m  Installed\u001b[22m\u001b[39m MKL_jll ──────────────────────── v2020.2.254+0\n",
      "\u001b[32m\u001b[1m  Installed\u001b[22m\u001b[39m GPUArrays ────────────────────── v5.2.1\n",
      "\u001b[32m\u001b[1m  Installed\u001b[22m\u001b[39m Libiconv_jll ─────────────────── v1.16.0+7\n",
      "\u001b[32m\u001b[1m  Installed\u001b[22m\u001b[39m Arpack_jll ───────────────────── v3.5.0+3\n",
      "\u001b[32m\u001b[1m  Installed\u001b[22m\u001b[39m TranscodingStreams ───────────── v0.9.5\n",
      "\u001b[32m\u001b[1m  Installed\u001b[22m\u001b[39m OrdinaryDiffEq ───────────────── v5.42.3\n",
      "\u001b[32m\u001b[1m  Installed\u001b[22m\u001b[39m x264_jll ─────────────────────── v2020.7.14+2\n",
      "\u001b[32m\u001b[1m  Installed\u001b[22m\u001b[39m Parameters ───────────────────── v0.12.1\n",
      "\u001b[32m\u001b[1m  Installed\u001b[22m\u001b[39m ConsoleProgressMonitor ───────── v0.1.2\n",
      "\u001b[32m\u001b[1m  Installed\u001b[22m\u001b[39m LeastSquaresOptim ────────────── v0.8.1\n",
      "\u001b[32m\u001b[1m  Installed\u001b[22m\u001b[39m Inflate ──────────────────────── v0.1.2\n",
      "\u001b[32m\u001b[1m  Installed\u001b[22m\u001b[39m TerminalLoggers ──────────────── v0.1.2\n",
      "\u001b[32m\u001b[1m  Installed\u001b[22m\u001b[39m NNlib ────────────────────────── v0.7.6\n",
      "\u001b[32m\u001b[1m  Installed\u001b[22m\u001b[39m MultivariateStats ────────────── v0.7.0\n",
      "\u001b[32m\u001b[1m  Installed\u001b[22m\u001b[39m TimeZones ────────────────────── v1.5.0\n",
      "\u001b[32m\u001b[1m  Installed\u001b[22m\u001b[39m Query ────────────────────────── v1.0.0\n",
      "\u001b[32m\u001b[1m  Installed\u001b[22m\u001b[39m ZygoteRules ──────────────────── v0.2.0\n",
      "\u001b[32m\u001b[1m  Installed\u001b[22m\u001b[39m ColorSchemes ─────────────────── v3.10.1\n",
      "\u001b[32m\u001b[1m  Installed\u001b[22m\u001b[39m VertexSafeGraphs ─────────────── v0.1.2\n",
      "\u001b[32m\u001b[1m  Installed\u001b[22m\u001b[39m ArrayLayouts ─────────────────── v0.3.8\n",
      "\u001b[32m\u001b[1m  Installed\u001b[22m\u001b[39m FillArrays ───────────────────── v0.8.14\n",
      "\u001b[32m\u001b[1m  Installed\u001b[22m\u001b[39m Ipopt ────────────────────────── v0.6.3\n",
      "\u001b[32m\u001b[1m  Installed\u001b[22m\u001b[39m IniFile ──────────────────────── v0.5.0\n",
      "\u001b[32m\u001b[1m  Installed\u001b[22m\u001b[39m GLM ──────────────────────────── v1.3.11\n",
      "\u001b[32m\u001b[1m  Installed\u001b[22m\u001b[39m FFTW ─────────────────────────── v1.2.4\n",
      "\u001b[32m\u001b[1m  Installed\u001b[22m\u001b[39m Requires ─────────────────────── v1.0.3\n",
      "\u001b[32m\u001b[1m  Installed\u001b[22m\u001b[39m Distributions ────────────────── v0.21.12\n",
      "\u001b[32m\u001b[1m  Installed\u001b[22m\u001b[39m ZipFile ──────────────────────── v0.9.3\n",
      "\u001b[32m\u001b[1m  Installed\u001b[22m\u001b[39m GeometryTypes ────────────────── v0.8.3\n",
      "\u001b[32m\u001b[1m  Installed\u001b[22m\u001b[39m Rmath_jll ────────────────────── v0.2.2+1\n",
      "\u001b[32m\u001b[1m  Installed\u001b[22m\u001b[39m DataFramesMeta ───────────────── v0.5.1\n",
      "\u001b[32m\u001b[1m  Installed\u001b[22m\u001b[39m Juno ─────────────────────────── v0.8.4\n",
      "\u001b[32m\u001b[1m  Installed\u001b[22m\u001b[39m MacroTools ───────────────────── v0.5.6\n",
      "\u001b[32m\u001b[1m  Installed\u001b[22m\u001b[39m SLEEFPirates ─────────────────── v0.5.5\n",
      "\u001b[32m\u001b[1m  Installed\u001b[22m\u001b[39m DomainSets ───────────────────── v0.4.1\n",
      "\u001b[32m\u001b[1m  Installed\u001b[22m\u001b[39m ToeplitzMatrices ─────────────── v0.6.2\n",
      "\u001b[32m\u001b[1m  Installed\u001b[22m\u001b[39m CodecBzip2 ───────────────────── v0.7.2\n",
      "\u001b[32m\u001b[1m  Installed\u001b[22m\u001b[39m Tables ───────────────────────── v1.1.0\n",
      "\u001b[32m\u001b[1m  Installed\u001b[22m\u001b[39m LoggingExtras ────────────────── v0.4.2\n",
      "\u001b[32m\u001b[1m  Installed\u001b[22m\u001b[39m EllipsisNotation ─────────────── v0.4.0\n",
      "\u001b[32m\u001b[1m  Installed\u001b[22m\u001b[39m MPFR_jll ─────────────────────── v4.1.0+1\n",
      "\u001b[32m\u001b[1m  Installed\u001b[22m\u001b[39m StructTypes ──────────────────── v1.1.0\n",
      "\u001b[32m\u001b[1m  Installed\u001b[22m\u001b[39m libass_jll ───────────────────── v0.14.0+4\n",
      "\u001b[32m\u001b[1m  Installed\u001b[22m\u001b[39m QuantEcon ────────────────────── v0.16.2\n",
      "\u001b[32m\u001b[1m  Installed\u001b[22m\u001b[39m OffsetArrays ─────────────────── v1.4.0\n",
      "\u001b[32m\u001b[1m  Installed\u001b[22m\u001b[39m DataFrames ───────────────────── v0.21.8\n",
      "\u001b[32m\u001b[1m  Installed\u001b[22m\u001b[39m EzXML ────────────────────────── v1.1.0\n",
      "\u001b[32m\u001b[1m  Installed\u001b[22m\u001b[39m RecipesPipeline ──────────────── v0.1.13\n",
      "\u001b[32m\u001b[1m  Installed\u001b[22m\u001b[39m FunctionWrappers ─────────────── v1.1.1\n",
      "\u001b[32m\u001b[1m  Installed\u001b[22m\u001b[39m NameResolution ───────────────── v0.1.5\n",
      "\u001b[32m\u001b[1m  Installed\u001b[22m\u001b[39m LazyArrays ───────────────────── v0.16.16\n",
      "\u001b[32m\u001b[1m  Installed\u001b[22m\u001b[39m StructArrays ─────────────────── v0.4.4\n",
      "\u001b[32m\u001b[1m  Installed\u001b[22m\u001b[39m Bzip2_jll ────────────────────── v1.0.6+5\n",
      "\u001b[32m\u001b[1m  Installed\u001b[22m\u001b[39m JSONSchema ───────────────────── v0.2.0\n",
      "\u001b[32m\u001b[1m  Installed\u001b[22m\u001b[39m TableOperations ──────────────── v0.2.1\n",
      "\u001b[32m\u001b[1m  Installed\u001b[22m\u001b[39m StatsBase ────────────────────── v0.32.2\n",
      "\u001b[32m\u001b[1m  Installed\u001b[22m\u001b[39m Cassette ─────────────────────── v0.3.3\n",
      "\u001b[32m\u001b[1m  Installed\u001b[22m\u001b[39m QueryOperators ───────────────── v0.9.2\n",
      "\u001b[32m\u001b[1m  Installed\u001b[22m\u001b[39m PrettyPrint ──────────────────── v0.2.0\n",
      "\u001b[32m\u001b[1m  Installed\u001b[22m\u001b[39m Revise ───────────────────────── v3.1.7\n",
      "\u001b[32m\u001b[1m  Installed\u001b[22m\u001b[39m StatsModels ──────────────────── v0.6.15\n",
      "\u001b[32m\u001b[1m  Installed\u001b[22m\u001b[39m StochasticDiffEq ─────────────── v6.20.0\n",
      "\u001b[32m\u001b[1m  Installed\u001b[22m\u001b[39m libfdk_aac_jll ───────────────── v0.1.6+4\n",
      "\u001b[32m\u001b[1m  Installed\u001b[22m\u001b[39m Grisu ────────────────────────── v1.0.0\n",
      "\u001b[32m\u001b[1m  Installed\u001b[22m\u001b[39m JuliaInterpreter ─────────────── v0.8.3\n",
      "\u001b[32m\u001b[1m  Installed\u001b[22m\u001b[39m GeneralizedGenerated ─────────── v0.2.8\n",
      "\u001b[32m\u001b[1m  Installed\u001b[22m\u001b[39m Interpolations ───────────────── v0.12.10\n",
      "\u001b[32m\u001b[1m  Installed\u001b[22m\u001b[39m RData ────────────────────────── v0.7.2\n",
      "\u001b[32m\u001b[1m  Installed\u001b[22m\u001b[39m StaticArrays ─────────────────── v0.12.5\n",
      "\u001b[32m\u001b[1m  Installed\u001b[22m\u001b[39m DiffEqBase ───────────────────── v6.44.3\n",
      "\u001b[32m\u001b[1m  Installed\u001b[22m\u001b[39m CpuId ────────────────────────── v0.2.2\n",
      "\u001b[32m\u001b[1m  Installed\u001b[22m\u001b[39m GenericSVD ───────────────────── v0.3.0\n",
      "\u001b[32m\u001b[1m  Installed\u001b[22m\u001b[39m Intervals ────────────────────── v1.5.0\n",
      "\u001b[32m\u001b[1m  Installed\u001b[22m\u001b[39m CommonSubexpressions ─────────── v0.3.0\n",
      "\u001b[32m\u001b[1m  Installed\u001b[22m\u001b[39m Plots ────────────────────────── v1.6.8\n",
      "\u001b[32m\u001b[1m  Installed\u001b[22m\u001b[39m CUDA ─────────────────────────── v1.3.3\n",
      "\u001b[32m\u001b[1m  Installed\u001b[22m\u001b[39m ASL_jll ──────────────────────── v0.1.1+4\n",
      "\u001b[32m\u001b[1m  Installed\u001b[22m\u001b[39m SentinelArrays ───────────────── v1.2.16\n",
      "\u001b[32m\u001b[1m  Installed\u001b[22m\u001b[39m GR ───────────────────────────── v0.52.0\n",
      "\u001b[32m\u001b[1m  Installed\u001b[22m\u001b[39m SortingAlgorithms ────────────── v0.3.1\n",
      "\u001b[32m\u001b[1m  Installed\u001b[22m\u001b[39m AbstractTrees ────────────────── v0.3.3\n",
      "\u001b[32m\u001b[1m  Installed\u001b[22m\u001b[39m Media ────────────────────────── v0.5.0\n",
      "\u001b[32m\u001b[1m  Installed\u001b[22m\u001b[39m DiffResults ──────────────────── v1.0.2\n",
      "\u001b[32m\u001b[1m  Installed\u001b[22m\u001b[39m SpecialFunctions ─────────────── v0.8.0\n",
      "\u001b[32m\u001b[1m  Installed\u001b[22m\u001b[39m ModelingToolkit ──────────────── v3.1.1\n",
      "\u001b[32m\u001b[1m  Installed\u001b[22m\u001b[39m TimerOutputs ─────────────────── v0.5.7\n",
      "\u001b[32m\u001b[1m  Installed\u001b[22m\u001b[39m Rmath ────────────────────────── v0.6.1\n",
      "\u001b[32m\u001b[1m  Installed\u001b[22m\u001b[39m DiffEqNoiseProcess ───────────── v3.11.0\n",
      "\u001b[32m\u001b[1m  Installed\u001b[22m\u001b[39m BinDeps ──────────────────────── v1.0.1\n",
      "\u001b[32m\u001b[1m  Installed\u001b[22m\u001b[39m Adapt ────────────────────────── v2.3.0\n",
      "\u001b[32m\u001b[1m  Installed\u001b[22m\u001b[39m EarCut_jll ───────────────────── v2.1.5+1\n",
      "\u001b[32m\u001b[1m  Installed\u001b[22m\u001b[39m Opus_jll ─────────────────────── v1.3.1+3\n",
      "\u001b[32m\u001b[1m  Installed\u001b[22m\u001b[39m NLsolve ──────────────────────── v4.4.1\n",
      "\u001b[32m\u001b[1m  Installed\u001b[22m\u001b[39m ApproxFunSingularities ───────── v0.2.0\n",
      "\u001b[32m\u001b[1m  Installed\u001b[22m\u001b[39m PyCall ───────────────────────── v1.92.1\n",
      "\u001b[32m\u001b[1m  Installed\u001b[22m\u001b[39m IterativeSolvers ─────────────── v0.8.4\n",
      "\u001b[32m\u001b[1m  Installed\u001b[22m\u001b[39m LimitedLDLFactorizations ─────── v0.3.0\n",
      "\u001b[32m\u001b[1m  Installed\u001b[22m\u001b[39m FastTransforms_jll ───────────── v0.3.3+0\n",
      "\u001b[32m\u001b[1m  Installed\u001b[22m\u001b[39m MuladdMacro ──────────────────── v0.2.2\n",
      "\u001b[32m\u001b[1m  Installed\u001b[22m\u001b[39m MathProgBase ─────────────────── v0.7.8\n",
      "\u001b[32m\u001b[1m  Installed\u001b[22m\u001b[39m LoopVectorization ────────────── v0.8.26\n",
      "\u001b[32m\u001b[1m  Installed\u001b[22m\u001b[39m Preconditioners ──────────────── v0.3.0\n",
      "\u001b[32m\u001b[1m  Installed\u001b[22m\u001b[39m KrylovKit ────────────────────── v0.5.2\n",
      "\u001b[32m\u001b[1m  Installed\u001b[22m\u001b[39m QuadGK ───────────────────────── v2.4.1\n",
      "\u001b[32m\u001b[1m  Installed\u001b[22m\u001b[39m DSP ──────────────────────────── v0.6.8\n",
      "\u001b[32m\u001b[1m  Installed\u001b[22m\u001b[39m WoodburyMatrices ─────────────── v0.5.3\n",
      "\u001b[32m\u001b[1m  Installed\u001b[22m\u001b[39m LAME_jll ─────────────────────── v3.100.0+3\n",
      "\u001b[32m\u001b[1m  Installed\u001b[22m\u001b[39m JuMP ─────────────────────────── v0.21.3\n",
      "\u001b[32m\u001b[1m  Installed\u001b[22m\u001b[39m NaNMath ──────────────────────── v0.3.4\n",
      "\u001b[32m\u001b[1m  Installed\u001b[22m\u001b[39m RecursiveFactorization ───────── v0.1.4\n",
      "\u001b[32m\u001b[1m  Installed\u001b[22m\u001b[39m CEnum ────────────────────────── v0.4.1\n",
      "\u001b[32m\u001b[1m  Installed\u001b[22m\u001b[39m AMD ──────────────────────────── v0.4.0\n",
      "\u001b[32m\u001b[1m  Installed\u001b[22m\u001b[39m Optim ────────────────────────── v0.20.1\n",
      "\u001b[32m\u001b[1m  Installed\u001b[22m\u001b[39m OrderedCollections ───────────── v1.3.2\n",
      "\u001b[32m\u001b[1m  Installed\u001b[22m\u001b[39m CodecZlib ────────────────────── v0.7.0\n",
      "\u001b[32m\u001b[1m  Installed\u001b[22m\u001b[39m StatsFuns ────────────────────── v0.9.5\n",
      "\u001b[32m\u001b[1m  Installed\u001b[22m\u001b[39m LinearOperators ──────────────── v1.1.0\n",
      "\u001b[32m\u001b[1m  Installed\u001b[22m\u001b[39m FixedPointNumbers ────────────── v0.8.4\n",
      "\u001b[32m\u001b[1m  Installed\u001b[22m\u001b[39m TableShowUtils ───────────────── v0.2.5\n",
      "\u001b[32m\u001b[1m  Installed\u001b[22m\u001b[39m IntelOpenMP_jll ──────────────── v2018.0.3+0\n",
      "\u001b[32m\u001b[1m  Installed\u001b[22m\u001b[39m Mustache ─────────────────────── v1.0.8\n",
      "\u001b[32m\u001b[1m  Installed\u001b[22m\u001b[39m URIParser ────────────────────── v0.4.1\n",
      "\u001b[32m\u001b[1m  Installed\u001b[22m\u001b[39m LinearMaps ───────────────────── v2.7.0\n",
      "\u001b[32m\u001b[1m  Installed\u001b[22m\u001b[39m Latexify ─────────────────────── v0.13.5\n",
      "\u001b[32m\u001b[1m  Installed\u001b[22m\u001b[39m FilePathsBase ────────────────── v0.9.5\n",
      "\u001b[32m\u001b[1m  Installed\u001b[22m\u001b[39m GMP_jll ──────────────────────── v6.1.2+6\n",
      "\u001b[32m\u001b[1m  Installed\u001b[22m\u001b[39m NearestNeighbors ─────────────── v0.4.7\n",
      "\u001b[32m\u001b[1m  Installed\u001b[22m\u001b[39m FFTW_jll ─────────────────────── v3.3.9+6\n",
      "\u001b[32m\u001b[1m  Installed\u001b[22m\u001b[39m PyPlot ───────────────────────── v2.9.0\n",
      "\u001b[32m\u001b[1m  Installed\u001b[22m\u001b[39m SimpleTraits ─────────────────── v0.9.3\n",
      "\u001b[32m\u001b[1m  Installed\u001b[22m\u001b[39m CompilerSupportLibraries_jll ─── v0.3.4+0\n",
      "\u001b[32m\u001b[1m  Installed\u001b[22m\u001b[39m Functors ─────────────────────── v0.1.0\n",
      "\u001b[32m\u001b[1m  Installed\u001b[22m\u001b[39m BlockBandedMatrices ──────────── v0.8.11\n",
      "\u001b[32m\u001b[1m  Installed\u001b[22m\u001b[39m VectorizationBase ────────────── v0.12.33\n",
      "\u001b[32m\u001b[1m  Installed\u001b[22m\u001b[39m LightGraphs ──────────────────── v1.3.3\n",
      "\u001b[32m\u001b[1m  Installed\u001b[22m\u001b[39m ChainRules ───────────────────── v0.6.5\n",
      "\u001b[32m\u001b[1m  Installed\u001b[22m\u001b[39m Distances ────────────────────── v0.9.2\n",
      "\u001b[32m\u001b[1m  Installed\u001b[22m\u001b[39m RecipesBase ──────────────────── v1.1.0\n",
      "\u001b[32m\u001b[1m  Installed\u001b[22m\u001b[39m DataValues ───────────────────── v0.4.13\n",
      "\u001b[32m\u001b[1m  Installed\u001b[22m\u001b[39m Reexport ─────────────────────── v0.2.0\n",
      "\u001b[32m\u001b[1m  Installed\u001b[22m\u001b[39m METIS_jll ────────────────────── v5.1.0+5\n",
      "\u001b[32m\u001b[1m  Installed\u001b[22m\u001b[39m IncompleteLU ─────────────────── v0.1.2\n",
      "\u001b[32m\u001b[1m  Installed\u001b[22m\u001b[39m Combinatorics ────────────────── v1.0.2\n",
      "\u001b[32m\u001b[1m  Installed\u001b[22m\u001b[39m Clustering ───────────────────── v0.14.2\n",
      "\u001b[32m\u001b[1m  Installed\u001b[22m\u001b[39m Vega ─────────────────────────── v2.0.0\n",
      "\u001b[32m\u001b[1m  Installed\u001b[22m\u001b[39m InfiniteArrays ───────────────── v0.7.3\n",
      "\u001b[32m\u001b[1m  Installed\u001b[22m\u001b[39m NLSolversBase ────────────────── v7.5.0\n",
      "\u001b[32m\u001b[1m  Installed\u001b[22m\u001b[39m Dierckx_jll ──────────────────── v0.0.1+0\n",
      "\u001b[32m\u001b[1m  Installed\u001b[22m\u001b[39m Dierckx ──────────────────────── v0.5.0\n",
      "\u001b[32m\u001b[1m  Installed\u001b[22m\u001b[39m ApproxFun ────────────────────── v0.12.2\n",
      "\u001b[32m\u001b[1m  Installed\u001b[22m\u001b[39m SparsityDetection ────────────── v0.3.3\n",
      "\u001b[32m\u001b[1m  Installed\u001b[22m\u001b[39m VegaLite ─────────────────────── v2.3.0\n",
      "\u001b[32m\u001b[1m  Installed\u001b[22m\u001b[39m ApproxFunFourier ─────────────── v0.2.5\n",
      "\u001b[32m\u001b[1m  Installed\u001b[22m\u001b[39m Showoff ──────────────────────── v0.3.2\n",
      "\u001b[32m\u001b[1m  Installed\u001b[22m\u001b[39m MathOptInterface ─────────────── v0.9.13\n",
      "\u001b[32m\u001b[1m  Installed\u001b[22m\u001b[39m PooledArrays ─────────────────── v0.5.3\n",
      "\u001b[32m\u001b[1m  Installed\u001b[22m\u001b[39m ProgressMeter ────────────────── v1.4.0\n",
      "\u001b[32m\u001b[1m  Installed\u001b[22m\u001b[39m LoweredCodeUtils ─────────────── v1.2.5\n",
      "\u001b[32m\u001b[1m  Installed\u001b[22m\u001b[39m LowRankApprox ────────────────── v0.4.2\n",
      "\u001b[32m\u001b[1m  Installed\u001b[22m\u001b[39m FixedEffectModels ────────────── v1.1.0\n",
      "\u001b[32m\u001b[1m  Installed\u001b[22m\u001b[39m BlockArrays ──────────────────── v0.12.11\n",
      "\u001b[32m\u001b[1mNo Changes\u001b[22m\u001b[39m to `~/github-anari/tor-quantecon-jl/Project.toml`\n",
      "\u001b[32m\u001b[1mNo Changes\u001b[22m\u001b[39m to `~/github-anari/tor-quantecon-jl/Manifest.toml`\n",
      "\u001b[32m\u001b[1m   Building\u001b[22m\u001b[39m SpecialFunctions → `/opt/julia/packages/SpecialFunctions/ne2iw/deps/build.log`\n",
      "\u001b[32m\u001b[1m   Building\u001b[22m\u001b[39m FFTW ────────────→ `/opt/julia/packages/FFTW/DMUbN/deps/build.log`\n",
      "\u001b[32m\u001b[1m   Building\u001b[22m\u001b[39m TimeZones ───────→ `/opt/julia/packages/TimeZones/fr1IP/deps/build.log`\n",
      "\u001b[32m\u001b[1m   Building\u001b[22m\u001b[39m FastTransforms ──→ `/opt/julia/packages/FastTransforms/LB2TC/deps/build.log`\n",
      "\u001b[32m\u001b[1m   Building\u001b[22m\u001b[39m Ipopt ───────────→ `/opt/julia/packages/Ipopt/bYzBL/deps/build.log`\n",
      "\u001b[32m\u001b[1m   Building\u001b[22m\u001b[39m SLEEFPirates ────→ `/opt/julia/packages/SLEEFPirates/jGsib/deps/build.log`\n",
      "\u001b[32m\u001b[1m   Building\u001b[22m\u001b[39m GR ──────────────→ `/opt/julia/packages/GR/BwGt2/deps/build.log`\n",
      "\u001b[32m\u001b[1m   Building\u001b[22m\u001b[39m Plots ───────────→ `/opt/julia/packages/Plots/hyS17/deps/build.log`\n",
      "\u001b[32m\u001b[1m   Building\u001b[22m\u001b[39m PyCall ──────────→ `/opt/julia/packages/PyCall/BcTLp/deps/build.log`\n",
      "\u001b[32m\u001b[1m   Building\u001b[22m\u001b[39m Preconditioners ─→ `/opt/julia/packages/Preconditioners/uMaQw/deps/build.log`\n"
     ]
    }
   ],
   "source": [
    "] add InstantiateFromURL"
   ]
  },
  {
   "cell_type": "code",
   "execution_count": 2,
   "metadata": {},
   "outputs": [
    {
     "name": "stderr",
     "output_type": "stream",
     "text": [
      "┌ Info: Precompiling InstantiateFromURL [43edad99-fa64-5e4f-9937-1c09a410b73f]\n",
      "└ @ Base loading.jl:1278\n"
     ]
    },
    {
     "name": "stdout",
     "output_type": "stream",
     "text": [
      "\u001b[32m\u001b[1mActivated\u001b[0m /home/jovyan/github-anari/tor-quantecon-jl/Project.toml\u001b[39m\n",
      "\u001b[36m\u001b[1mInfo\u001b[0m Project name is quantecon-notebooks-julia, version is 0.8.0\u001b[39m\n"
     ]
    }
   ],
   "source": [
    "using InstantiateFromURL\n",
    "# optionally add arguments to force installation: instantiate = true, precompile = true\n",
    "github_project(\"QuantEcon/quantecon-notebooks-julia\", version = \"0.8.0\")"
   ]
  },
  {
   "cell_type": "code",
   "execution_count": 1,
   "metadata": {},
   "outputs": [],
   "source": [
    "using LinearAlgebra, Statistics"
   ]
  },
  {
   "cell_type": "markdown",
   "metadata": {},
   "source": [
    "# Skipped \n",
    "\n",
    "- Common Data Types\n",
    "    - Primitive Data Types "
   ]
  },
  {
   "cell_type": "markdown",
   "metadata": {},
   "source": [
    "# Strings "
   ]
  },
  {
   "cell_type": "code",
   "execution_count": 5,
   "metadata": {},
   "outputs": [],
   "source": [
    "x = 10; y = 20; "
   ]
  },
  {
   "cell_type": "code",
   "execution_count": 6,
   "metadata": {},
   "outputs": [
    {
     "data": {
      "text/plain": [
       "\"x = 10\""
      ]
     },
     "execution_count": 6,
     "metadata": {},
     "output_type": "execute_result"
    }
   ],
   "source": [
    "\"x = $x\""
   ]
  },
  {
   "cell_type": "code",
   "execution_count": 7,
   "metadata": {},
   "outputs": [
    {
     "data": {
      "text/plain": [
       "\"x + y = 30\""
      ]
     },
     "execution_count": 7,
     "metadata": {},
     "output_type": "execute_result"
    }
   ],
   "source": [
    "\"x + y = $(x+y)\""
   ]
  },
  {
   "cell_type": "code",
   "execution_count": null,
   "metadata": {},
   "outputs": [],
   "source": [
    "ϵ_sum = 0.0 \n",
    "m = 5\n",
    "for ϵ_val in ϵ[1:5]\n",
    "    ϵ_sum = ϵ_sum + ϵ_val \n",
    "end\n",
    "\n",
    "ϵ_mean = ϵ_sum/m"
   ]
  },
  {
   "cell_type": "markdown",
   "metadata": {},
   "source": [
    "# Container "
   ]
  },
  {
   "cell_type": "code",
   "execution_count": 8,
   "metadata": {},
   "outputs": [
    {
     "data": {
      "text/plain": [
       "(\"foo\", 2)"
      ]
     },
     "execution_count": 8,
     "metadata": {},
     "output_type": "execute_result"
    }
   ],
   "source": [
    "x = (\"foo\", \"bar\")\n",
    "y = (\"foo\", 2)"
   ]
  },
  {
   "cell_type": "code",
   "execution_count": 9,
   "metadata": {},
   "outputs": [
    {
     "data": {
      "text/plain": [
       "(Tuple{String,String}, Tuple{String,Int64})"
      ]
     },
     "execution_count": 9,
     "metadata": {},
     "output_type": "execute_result"
    }
   ],
   "source": [
    "typeof(x), typeof(y)"
   ]
  },
  {
   "cell_type": "code",
   "execution_count": 10,
   "metadata": {},
   "outputs": [
    {
     "data": {
      "text/plain": [
       "(\"foo\", 1)"
      ]
     },
     "execution_count": 10,
     "metadata": {},
     "output_type": "execute_result"
    }
   ],
   "source": [
    "x = \"foo\", 1"
   ]
  },
  {
   "cell_type": "code",
   "execution_count": 11,
   "metadata": {},
   "outputs": [
    {
     "name": "stdout",
     "output_type": "stream",
     "text": [
      "word = foo, val = 1\n"
     ]
    }
   ],
   "source": [
    "word, val = x \n",
    "\n",
    "println(\"word = $word, val = $val\")"
   ]
  },
  {
   "cell_type": "code",
   "execution_count": 14,
   "metadata": {},
   "outputs": [
    {
     "data": {
      "text/plain": [
       "3-element Array{Int64,1}:\n",
       " 20\n",
       " 30\n",
       " 40"
      ]
     },
     "execution_count": 14,
     "metadata": {},
     "output_type": "execute_result"
    }
   ],
   "source": [
    "x = [10, 20, 30, 40]\n",
    "\n",
    "x[2:end]"
   ]
  },
  {
   "cell_type": "code",
   "execution_count": 16,
   "metadata": {},
   "outputs": [
    {
     "data": {
      "text/plain": [
       "\"ckthetrump\""
      ]
     },
     "execution_count": 16,
     "metadata": {},
     "output_type": "execute_result"
    }
   ],
   "source": [
    "\"fuckthetrump\"[3:end]"
   ]
  },
  {
   "cell_type": "markdown",
   "metadata": {},
   "source": [
    "# Dictionaries"
   ]
  },
  {
   "cell_type": "code",
   "execution_count": 17,
   "metadata": {},
   "outputs": [
    {
     "data": {
      "text/plain": [
       "Dict{String,Any} with 2 entries:\n",
       "  \"name\" => \"Frodo\"\n",
       "  \"age\"  => 33"
      ]
     },
     "execution_count": 17,
     "metadata": {},
     "output_type": "execute_result"
    }
   ],
   "source": [
    "d = Dict(\"name\" => \"Frodo\", \"age\" => 33)"
   ]
  },
  {
   "cell_type": "code",
   "execution_count": 19,
   "metadata": {},
   "outputs": [
    {
     "data": {
      "text/plain": [
       "33"
      ]
     },
     "execution_count": 19,
     "metadata": {},
     "output_type": "execute_result"
    }
   ],
   "source": [
    "d[\"age\"]"
   ]
  },
  {
   "cell_type": "markdown",
   "metadata": {},
   "source": [
    "# Interating"
   ]
  },
  {
   "cell_type": "code",
   "execution_count": 20,
   "metadata": {},
   "outputs": [
    {
     "name": "stdout",
     "output_type": "stream",
     "text": [
      "Charlie doesn't like to surf\n",
      "Charlie doesn't like to ski\n"
     ]
    }
   ],
   "source": [
    "actions = [\"surf\", \"ski\"]\n",
    "\n",
    "for action in actions\n",
    "    println(\"Charlie doesn't like to $action\")\n",
    "    end "
   ]
  },
  {
   "cell_type": "markdown",
   "metadata": {},
   "source": [
    "## Looping without Indices "
   ]
  },
  {
   "cell_type": "code",
   "execution_count": 21,
   "metadata": {},
   "outputs": [
    {
     "data": {
      "text/plain": [
       "1:5"
      ]
     },
     "execution_count": 21,
     "metadata": {},
     "output_type": "execute_result"
    }
   ],
   "source": [
    "x_values = 1:5"
   ]
  },
  {
   "cell_type": "code",
   "execution_count": 22,
   "metadata": {},
   "outputs": [
    {
     "name": "stdout",
     "output_type": "stream",
     "text": [
      "Square is 1\n",
      "Square is 4\n",
      "Square is 9\n",
      "Square is 16\n",
      "Square is 25\n"
     ]
    }
   ],
   "source": [
    "for x in x_values\n",
    "    println(\"Square is $(x * x)\")\n",
    "end"
   ]
  },
  {
   "cell_type": "code",
   "execution_count": 23,
   "metadata": {},
   "outputs": [
    {
     "name": "stdout",
     "output_type": "stream",
     "text": [
      "Square is 1\n",
      "Square is 4\n",
      "Square is 9\n",
      "Square is 16\n",
      "Square is 25\n"
     ]
    }
   ],
   "source": [
    "for i in eachindex(x_values)\n",
    "    println(\"Square is $(x_values[i] * x_values[i])\")\n",
    "end"
   ]
  },
  {
   "cell_type": "code",
   "execution_count": 2,
   "metadata": {},
   "outputs": [
    {
     "name": "stdout",
     "output_type": "stream",
     "text": [
      "The capital of Korea is Seoul\n",
      "The capital of Japan is Tokyo\n",
      "The capital of China is Beijing\n"
     ]
    }
   ],
   "source": [
    "countries = (\"Korea\", \"Japan\", \"China\")\n",
    "capitals = (\"Seoul\", \"Tokyo\", \"Beijing\")\n",
    "\n",
    "for (country, capital) in zip(countries, capitals)\n",
    "    println(\"The capital of $country is $capital\")\n",
    "end"
   ]
  },
  {
   "cell_type": "code",
   "execution_count": 10,
   "metadata": {},
   "outputs": [
    {
     "name": "stdout",
     "output_type": "stream",
     "text": [
      "The capital of Korea is Seoul\n",
      "The capital of Japan is Tokyo\n",
      "The capital of China is Beijing\n"
     ]
    }
   ],
   "source": [
    "countries = (\"Korea\", \"Japan\", \"China\")\n",
    "capitals = (\"Seoul\", \"Tokyo\", \"Beijing\")\n",
    "\n",
    "for (i, country) in enumerate(countries)    \n",
    "    capital = capitals[i]\n",
    "    println(\"The capital of $country is $(capitals[i])\")\n",
    "end"
   ]
  },
  {
   "cell_type": "markdown",
   "metadata": {},
   "source": [
    "# Comprehension "
   ]
  },
  {
   "cell_type": "code",
   "execution_count": 11,
   "metadata": {},
   "outputs": [
    {
     "data": {
      "text/plain": [
       "3-element Array{String,1}:\n",
       " \"cats\"\n",
       " \"dogs\"\n",
       " \"bears\""
      ]
     },
     "execution_count": 11,
     "metadata": {},
     "output_type": "execute_result"
    }
   ],
   "source": [
    "animals = [\"cat\", \"dog\", \"bear\"]\n",
    "plurals = [animal*\"s\" for animal in animals]"
   ]
  },
  {
   "cell_type": "code",
   "execution_count": 12,
   "metadata": {},
   "outputs": [
    {
     "data": {
      "text/plain": [
       "3×83 Array{Int64,2}:\n",
       " 6  7   8   9  10  11  12  13  14  15  …  80  81  82  83  84  85  86  87  88\n",
       " 7  8   9  10  11  12  13  14  15  16     81  82  83  84  85  86  87  88  89\n",
       " 8  9  10  11  12  13  14  15  16  17     82  83  84  85  86  87  88  89  90"
      ]
     },
     "execution_count": 12,
     "metadata": {},
     "output_type": "execute_result"
    }
   ],
   "source": [
    "[i + j for i in 1:3, j in 5:87]"
   ]
  },
  {
   "cell_type": "code",
   "execution_count": 13,
   "metadata": {},
   "outputs": [
    {
     "data": {
      "text/plain": [
       "333383335000"
      ]
     },
     "execution_count": 13,
     "metadata": {},
     "output_type": "execute_result"
    }
   ],
   "source": [
    "xs = 1:10000\n",
    "f(x) = x^2 \n",
    "f_x = f.(xs)\n",
    "sum(f_x)"
   ]
  },
  {
   "cell_type": "code",
   "execution_count": 16,
   "metadata": {},
   "outputs": [
    {
     "name": "stdout",
     "output_type": "stream",
     "text": [
      "sum(f_x2) = 333383335000\n",
      "sum([f(x) for x = xs]) = 333383335000\n"
     ]
    },
    {
     "data": {
      "text/plain": [
       "333383335000"
      ]
     },
     "execution_count": 16,
     "metadata": {},
     "output_type": "execute_result"
    }
   ],
   "source": [
    "f_x2 = [f(x) for x in xs]\n",
    "@show sum(f_x2)\n",
    "@show sum([f(x) for x in xs])"
   ]
  },
  {
   "cell_type": "code",
   "execution_count": 18,
   "metadata": {},
   "outputs": [
    {
     "name": "stderr",
     "output_type": "stream",
     "text": [
      "\u001b[32m\u001b[1m   Updating\u001b[22m\u001b[39m registry at `/opt/julia/registries/General`\n",
      "######################################################################### 100.0%\n",
      "\u001b[32m\u001b[1m  Resolving\u001b[22m\u001b[39m package versions...\n",
      "\u001b[32m\u001b[1m  Installed\u001b[22m\u001b[39m Arpack ───────────────────────── v0.4.0\n",
      "\u001b[32m\u001b[1m  Installed\u001b[22m\u001b[39m Preconditioners ──────────────── v0.3.0\n",
      "\u001b[32m\u001b[1m  Installed\u001b[22m\u001b[39m SparsityDetection ────────────── v0.3.3\n",
      "\u001b[32m\u001b[1m  Installed\u001b[22m\u001b[39m BenchmarkTools ───────────────── v0.5.0\n",
      "\u001b[32m\u001b[1m  Installed\u001b[22m\u001b[39m IncompleteLU ─────────────────── v0.1.2\n",
      "\u001b[32m\u001b[1m  Installed\u001b[22m\u001b[39m RegressionTables ─────────────── v0.5.0\n",
      "\u001b[32m\u001b[1m  Installed\u001b[22m\u001b[39m StochasticDiffEq ─────────────── v6.20.0\n",
      "\u001b[32m\u001b[1m  Installed\u001b[22m\u001b[39m ForwardDiff ──────────────────── v0.10.12\n",
      "\u001b[32m\u001b[1m  Installed\u001b[22m\u001b[39m LazyArrays ───────────────────── v0.16.16\n",
      "\u001b[32m\u001b[1m  Installed\u001b[22m\u001b[39m Compat ───────────────────────── v2.2.1\n",
      "\u001b[32m\u001b[1m  Installed\u001b[22m\u001b[39m Expectations ─────────────────── v1.1.1\n",
      "\u001b[32m\u001b[1m  Installed\u001b[22m\u001b[39m FixedEffectModels ────────────── v1.1.0\n",
      "\u001b[32m\u001b[1m  Installed\u001b[22m\u001b[39m Zygote ───────────────────────── v0.5.1\n",
      "\u001b[32m\u001b[1m  Installed\u001b[22m\u001b[39m ModelingToolkit ──────────────── v3.1.1\n",
      "\u001b[32m\u001b[1m  Installed\u001b[22m\u001b[39m CategoricalArrays ────────────── v0.8.3\n",
      "\u001b[32m\u001b[1m  Installed\u001b[22m\u001b[39m LeastSquaresOptim ────────────── v0.8.1\n",
      "\u001b[32m\u001b[1m  Installed\u001b[22m\u001b[39m SparseDiffTools ──────────────── v1.10.1\n",
      "\u001b[32m\u001b[1m  Installed\u001b[22m\u001b[39m AlgebraicMultigrid ───────────── v0.2.2\n",
      "\u001b[32m\u001b[1m  Installed\u001b[22m\u001b[39m StatsModels ──────────────────── v0.6.15\n",
      "\u001b[32m\u001b[1m  Installed\u001b[22m\u001b[39m OrdinaryDiffEq ───────────────── v5.42.3\n",
      "\u001b[32m\u001b[1m  Installed\u001b[22m\u001b[39m DataFrames ───────────────────── v0.21.8\n",
      "\u001b[32m\u001b[1m  Installed\u001b[22m\u001b[39m Distributions ────────────────── v0.21.12\n",
      "\u001b[32m\u001b[1m  Installed\u001b[22m\u001b[39m FastGaussQuadrature ──────────── v0.4.3\n",
      "\u001b[32m\u001b[1m  Installed\u001b[22m\u001b[39m KrylovKit ────────────────────── v0.5.2\n",
      "\u001b[32m\u001b[1m  Installed\u001b[22m\u001b[39m VegaLite ─────────────────────── v2.3.0\n",
      "\u001b[32m\u001b[1m  Installed\u001b[22m\u001b[39m KernelDensity ────────────────── v0.5.1\n",
      "\u001b[32m\u001b[1m  Installed\u001b[22m\u001b[39m TimerOutputs ─────────────────── v0.5.7\n",
      "\u001b[32m\u001b[1m  Installed\u001b[22m\u001b[39m Krylov ───────────────────────── v0.5.4\n",
      "\u001b[32m\u001b[1m  Installed\u001b[22m\u001b[39m ProgressMeter ────────────────── v1.4.0\n",
      "\u001b[32m\u001b[1m  Installed\u001b[22m\u001b[39m Polynomials ──────────────────── v1.1.11\n",
      "\u001b[32m\u001b[1m  Installed\u001b[22m\u001b[39m Revise ───────────────────────── v3.1.7\n",
      "\u001b[32m\u001b[1m  Installed\u001b[22m\u001b[39m InstantiateFromURL ───────────── v0.5.0\n",
      "\u001b[32m\u001b[1m  Installed\u001b[22m\u001b[39m StatsPlots ───────────────────── v0.14.15\n",
      "\u001b[32m\u001b[1m  Installed\u001b[22m\u001b[39m Expokit ──────────────────────── v0.2.0\n",
      "\u001b[32m\u001b[1m  Installed\u001b[22m\u001b[39m IterativeSolvers ─────────────── v0.8.4\n",
      "\u001b[32m\u001b[1m  Installed\u001b[22m\u001b[39m Optim ────────────────────────── v0.20.1\n",
      "\u001b[32m\u001b[1m  Installed\u001b[22m\u001b[39m ExponentialUtilities ─────────── v1.8.0\n",
      "\u001b[32m\u001b[1m  Installed\u001b[22m\u001b[39m DataFramesMeta ───────────────── v0.5.1\n",
      "\u001b[32m\u001b[1m  Installed\u001b[22m\u001b[39m BandedMatrices ───────────────── v0.15.15\n",
      "\u001b[32m\u001b[1m  Installed\u001b[22m\u001b[39m LinearOperators ──────────────── v1.1.0\n",
      "\u001b[32m\u001b[1m  Installed\u001b[22m\u001b[39m Dierckx ──────────────────────── v0.5.0\n",
      "\u001b[32m\u001b[1m  Installed\u001b[22m\u001b[39m StatsBase ────────────────────── v0.32.2\n",
      "\u001b[32m\u001b[1m  Installed\u001b[22m\u001b[39m Flux ─────────────────────────── v0.11.1\n",
      "\u001b[32m\u001b[1m  Installed\u001b[22m\u001b[39m PyPlot ───────────────────────── v2.9.0\n",
      "\u001b[32m\u001b[1m  Installed\u001b[22m\u001b[39m QuadGK ───────────────────────── v2.4.1\n",
      "\u001b[32m\u001b[1m  Installed\u001b[22m\u001b[39m Parameters ───────────────────── v0.12.1\n",
      "\u001b[32m\u001b[1m  Installed\u001b[22m\u001b[39m StaticArrays ─────────────────── v0.12.5\n",
      "\u001b[32m\u001b[1m  Installed\u001b[22m\u001b[39m Plots ────────────────────────── v1.6.8\n",
      "\u001b[32m\u001b[1m  Installed\u001b[22m\u001b[39m BlockBandedMatrices ──────────── v0.8.11\n",
      "\u001b[32m\u001b[1m  Installed\u001b[22m\u001b[39m BlackBoxOptim ────────────────── v0.5.0\n",
      "\u001b[32m\u001b[1m  Installed\u001b[22m\u001b[39m GLM ──────────────────────────── v1.3.11\n",
      "\u001b[32m\u001b[1m  Installed\u001b[22m\u001b[39m LinearMaps ───────────────────── v2.7.0\n",
      "\u001b[32m\u001b[1m  Installed\u001b[22m\u001b[39m LightGraphs ──────────────────── v1.3.3\n",
      "\u001b[32m\u001b[1m  Installed\u001b[22m\u001b[39m Query ────────────────────────── v1.0.0\n",
      "\u001b[32m\u001b[1m  Installed\u001b[22m\u001b[39m Roots ────────────────────────── v1.0.5\n",
      "\u001b[32m\u001b[1m  Installed\u001b[22m\u001b[39m DiffEqOperators ──────────────── v4.12.0\n",
      "\u001b[32m\u001b[1m  Installed\u001b[22m\u001b[39m Ipopt ────────────────────────── v0.6.3\n",
      "\u001b[32m\u001b[1m  Installed\u001b[22m\u001b[39m ApproxFun ────────────────────── v0.12.2\n",
      "\u001b[32m\u001b[1m  Installed\u001b[22m\u001b[39m GR ───────────────────────────── v0.52.0\n",
      "\u001b[32m\u001b[1m  Installed\u001b[22m\u001b[39m LaTeXStrings ─────────────────── v1.2.0\n",
      "\u001b[32m\u001b[1m  Installed\u001b[22m\u001b[39m PkgTemplates ─────────────────── v0.7.13\n",
      "\u001b[32m\u001b[1m  Installed\u001b[22m\u001b[39m NLsolve ──────────────────────── v4.4.1\n",
      "\u001b[32m\u001b[1m  Installed\u001b[22m\u001b[39m FillArrays ───────────────────── v0.8.14\n",
      "\u001b[32m\u001b[1m  Installed\u001b[22m\u001b[39m FixedEffects ─────────────────── v1.0.0\n",
      "\u001b[32m\u001b[1m  Installed\u001b[22m\u001b[39m JuMP ─────────────────────────── v0.21.3\n",
      "\u001b[32m\u001b[1m  Installed\u001b[22m\u001b[39m QuantEcon ────────────────────── v0.16.2\n",
      "\u001b[32m\u001b[1m  Installed\u001b[22m\u001b[39m CodeTracking ─────────────────── v1.0.5\n",
      "\u001b[32m\u001b[1m  Installed\u001b[22m\u001b[39m DataValueInterfaces ──────────── v1.0.0\n",
      "\u001b[32m\u001b[1m  Installed\u001b[22m\u001b[39m Measures ─────────────────────── v0.3.1\n",
      "\u001b[32m\u001b[1m  Installed\u001b[22m\u001b[39m Unitful ──────────────────────── v1.5.0\n",
      "\u001b[32m\u001b[1m  Installed\u001b[22m\u001b[39m LineSearches ─────────────────── v7.1.0\n",
      "\u001b[32m\u001b[1m  Installed\u001b[22m\u001b[39m UnPack ───────────────────────── v0.1.0\n",
      "\u001b[32m\u001b[1m  Installed\u001b[22m\u001b[39m AbstractFFTs ─────────────────── v0.5.0\n",
      "\u001b[32m\u001b[1m  Installed\u001b[22m\u001b[39m NLopt ────────────────────────── v0.6.0\n",
      "\u001b[32m\u001b[1m  Installed\u001b[22m\u001b[39m Primes ───────────────────────── v0.5.0\n",
      "\u001b[32m\u001b[1m  Installed\u001b[22m\u001b[39m DataStructures ───────────────── v0.17.20\n",
      "\u001b[32m\u001b[1m  Installed\u001b[22m\u001b[39m Interpolations ───────────────── v0.12.10\n",
      "\u001b[32m\u001b[1m  Installed\u001b[22m\u001b[39m Formatting ───────────────────── v0.4.1\n",
      "\u001b[32m\u001b[1m  Installed\u001b[22m\u001b[39m MUMPS_seq_jll ────────────────── v5.3.5+0\n",
      "\u001b[32m\u001b[1m  Installed\u001b[22m\u001b[39m TreeViews ────────────────────── v0.3.0\n",
      "\u001b[32m\u001b[1m  Installed\u001b[22m\u001b[39m ArrayInterface ───────────────── v2.13.7\n",
      "\u001b[32m\u001b[1m  Installed\u001b[22m\u001b[39m DocStringExtensions ──────────── v0.8.3\n",
      "\u001b[32m\u001b[1m  Installed\u001b[22m\u001b[39m Contour ──────────────────────── v0.5.6\n",
      "\u001b[32m\u001b[1m  Installed\u001b[22m\u001b[39m x265_jll ─────────────────────── v3.0.0+3\n",
      "\u001b[32m\u001b[1m  Installed\u001b[22m\u001b[39m FiniteDiff ───────────────────── v2.7.1\n",
      "\u001b[32m\u001b[1m  Installed\u001b[22m\u001b[39m DiffRules ────────────────────── v1.0.2\n",
      "\u001b[32m\u001b[1m  Installed\u001b[22m\u001b[39m RandomNumbers ────────────────── v1.4.0\n",
      "\u001b[32m\u001b[1m  Installed\u001b[22m\u001b[39m GeometryBasics ───────────────── v0.3.3\n",
      "\u001b[32m\u001b[1m  Installed\u001b[22m\u001b[39m GPUCompiler ──────────────────── v0.6.1\n",
      "\u001b[32m\u001b[1m  Installed\u001b[22m\u001b[39m PlotUtils ────────────────────── v1.0.7\n",
      "\u001b[32m\u001b[1m  Installed\u001b[22m\u001b[39m MutableArithmetics ───────────── v0.2.12\n",
      "\u001b[32m\u001b[1m  Installed\u001b[22m\u001b[39m IterableTables ───────────────── v1.0.0\n",
      "\u001b[32m\u001b[1m  Installed\u001b[22m\u001b[39m ColorTypes ───────────────────── v0.10.9\n",
      "\u001b[32m\u001b[1m  Installed\u001b[22m\u001b[39m OpenBLAS_jll ─────────────────── v0.3.9+5\n",
      "\u001b[32m\u001b[1m  Installed\u001b[22m\u001b[39m Mocking ──────────────────────── v0.7.1\n",
      "\u001b[32m\u001b[1m  Installed\u001b[22m\u001b[39m ExprTools ────────────────────── v0.1.3\n",
      "\u001b[32m\u001b[1m  Installed\u001b[22m\u001b[39m TableTraits ──────────────────── v1.0.0\n",
      "\u001b[32m\u001b[1m  Installed\u001b[22m\u001b[39m LazyBandedMatrices ───────────── v0.2.12\n",
      "\u001b[32m\u001b[1m  Installed\u001b[22m\u001b[39m NodeJS ───────────────────────── v1.1.1\n",
      "\u001b[32m\u001b[1m  Installed\u001b[22m\u001b[39m Colors ───────────────────────── v0.12.4\n",
      "\u001b[32m\u001b[1m  Installed\u001b[22m\u001b[39m CanonicalTraits ──────────────── v0.2.3\n",
      "\u001b[32m\u001b[1m  Installed\u001b[22m\u001b[39m OpenSSL_jll ──────────────────── v1.1.1+6\n",
      "\u001b[32m\u001b[1m  Installed\u001b[22m\u001b[39m DiffEqDiffTools ──────────────── v1.7.0\n",
      "\u001b[32m\u001b[1m  Installed\u001b[22m\u001b[39m ConstructionBase ─────────────── v1.0.0\n",
      "\u001b[32m\u001b[1m  Installed\u001b[22m\u001b[39m LLVM ─────────────────────────── v2.0.0\n",
      "\u001b[32m\u001b[1m  Installed\u001b[22m\u001b[39m ArnoldiMethod ────────────────── v0.0.4\n",
      "\u001b[32m\u001b[1m  Installed\u001b[22m\u001b[39m SIMDPirates ──────────────────── v0.8.26\n",
      "\u001b[32m\u001b[1m  Installed\u001b[22m\u001b[39m LibVPX_jll ───────────────────── v1.9.0+1\n",
      "\u001b[32m\u001b[1m  Installed\u001b[22m\u001b[39m PlotThemes ───────────────────── v2.0.0\n",
      "\u001b[32m\u001b[1m  Installed\u001b[22m\u001b[39m Setfield ─────────────────────── v0.6.0\n",
      "\u001b[32m\u001b[1m  Installed\u001b[22m\u001b[39m AxisAlgorithms ───────────────── v1.0.0\n",
      "\u001b[32m\u001b[1m  Installed\u001b[22m\u001b[39m ChainRulesCore ───────────────── v0.8.1\n",
      "\u001b[32m\u001b[1m  Installed\u001b[22m\u001b[39m DualNumbers ──────────────────── v0.6.3\n",
      "\u001b[32m\u001b[1m  Installed\u001b[22m\u001b[39m Ipopt_jll ────────────────────── v3.13.1+1\n",
      "\u001b[32m\u001b[1m  Installed\u001b[22m\u001b[39m MatrixFactorizations ─────────── v0.5.2\n",
      "\u001b[32m\u001b[1m  Installed\u001b[22m\u001b[39m IRTools ──────────────────────── v0.4.1\n",
      "\u001b[32m\u001b[1m  Installed\u001b[22m\u001b[39m CPUTime ──────────────────────── v1.0.0\n",
      "\u001b[32m\u001b[1m  Installed\u001b[22m\u001b[39m ShiftedArrays ────────────────── v1.0.0\n",
      "\u001b[32m\u001b[1m  Installed\u001b[22m\u001b[39m FilePaths ────────────────────── v0.8.1\n",
      "\u001b[32m\u001b[1m  Installed\u001b[22m\u001b[39m ResettableStacks ─────────────── v1.0.0\n",
      "\u001b[32m\u001b[1m  Installed\u001b[22m\u001b[39m OpenBLAS32_jll ───────────────── v0.3.9+4\n",
      "\u001b[32m\u001b[1m  Installed\u001b[22m\u001b[39m IntervalSets ─────────────────── v0.5.1\n",
      "\u001b[32m\u001b[1m  Installed\u001b[22m\u001b[39m Calculus ─────────────────────── v0.5.1\n",
      "\u001b[32m\u001b[1m  Installed\u001b[22m\u001b[39m PDMats ───────────────────────── v0.9.12\n",
      "\u001b[32m\u001b[1m  Installed\u001b[22m\u001b[39m HTTP ─────────────────────────── v0.8.19\n",
      "\u001b[32m\u001b[1m  Installed\u001b[22m\u001b[39m NLopt_jll ────────────────────── v2.7.0+0\n",
      "\u001b[32m\u001b[1m  Installed\u001b[22m\u001b[39m LabelledArrays ───────────────── v1.3.0\n",
      "\u001b[32m\u001b[1m  Installed\u001b[22m\u001b[39m CSV ──────────────────────────── v0.7.10\n",
      "\u001b[32m\u001b[1m  Installed\u001b[22m\u001b[39m FreeType2_jll ────────────────── v2.10.1+5\n",
      "\u001b[32m\u001b[1m  Installed\u001b[22m\u001b[39m Ogg_jll ──────────────────────── v1.3.4+2\n",
      "\u001b[32m\u001b[1m  Installed\u001b[22m\u001b[39m Missings ─────────────────────── v0.4.4\n",
      "\u001b[32m\u001b[1m  Installed\u001b[22m\u001b[39m BinaryProvider ───────────────── v0.5.10\n",
      "\u001b[32m\u001b[1m  Installed\u001b[22m\u001b[39m Suppressor ───────────────────── v0.1.1\n",
      "\u001b[32m\u001b[1m  Installed\u001b[22m\u001b[39m ApproxFunBase ────────────────── v0.3.10\n",
      "\u001b[32m\u001b[1m  Installed\u001b[22m\u001b[39m libvorbis_jll ────────────────── v1.3.6+6\n",
      "\u001b[32m\u001b[1m  Installed\u001b[22m\u001b[39m FastClosures ─────────────────── v0.3.2\n",
      "\u001b[32m\u001b[1m  Installed\u001b[22m\u001b[39m DataAPI ──────────────────────── v1.4.0\n",
      "\u001b[32m\u001b[1m  Installed\u001b[22m\u001b[39m ProgressLogging ──────────────── v0.1.3\n",
      "\u001b[32m\u001b[1m  Installed\u001b[22m\u001b[39m FastTransforms ───────────────── v0.10.3\n",
      "\u001b[32m\u001b[1m  Installed\u001b[22m\u001b[39m SpatialIndexing ──────────────── v0.1.2\n",
      "\u001b[32m\u001b[1m  Installed\u001b[22m\u001b[39m IterTools ────────────────────── v1.3.0\n",
      "\u001b[32m\u001b[1m  Installed\u001b[22m\u001b[39m Ratios ───────────────────────── v0.4.0\n",
      "\u001b[32m\u001b[1m  Installed\u001b[22m\u001b[39m IteratorInterfaceExtensions ──── v1.0.0\n",
      "\u001b[32m\u001b[1m  Installed\u001b[22m\u001b[39m Glob ─────────────────────────── v1.3.0\n",
      "\u001b[32m\u001b[1m  Installed\u001b[22m\u001b[39m Observables ──────────────────── v0.3.2\n",
      "\u001b[32m\u001b[1m  Installed\u001b[22m\u001b[39m InvertedIndices ──────────────── v1.0.0\n",
      "\u001b[32m\u001b[1m  Installed\u001b[22m\u001b[39m LeftChildRightSiblingTrees ───── v0.1.2\n",
      "\u001b[32m\u001b[1m  Installed\u001b[22m\u001b[39m Nullables ────────────────────── v1.0.0\n",
      "\u001b[32m\u001b[1m  Installed\u001b[22m\u001b[39m FFMPEG_jll ───────────────────── v4.3.1+4\n",
      "\u001b[32m\u001b[1m  Installed\u001b[22m\u001b[39m PositiveFactorizations ───────── v0.2.4\n",
      "\u001b[32m\u001b[1m  Installed\u001b[22m\u001b[39m ApproxFunOrthogonalPolynomials ─ v0.3.6\n",
      "\u001b[32m\u001b[1m  Installed\u001b[22m\u001b[39m FileIO ───────────────────────── v1.4.4\n",
      "\u001b[32m\u001b[1m  Installed\u001b[22m\u001b[39m XML2_jll ─────────────────────── v2.9.10+3\n",
      "\u001b[32m\u001b[1m  Installed\u001b[22m\u001b[39m FriBidi_jll ──────────────────── v1.0.5+6\n",
      "\u001b[32m\u001b[1m  Installed\u001b[22m\u001b[39m SafeTestsets ─────────────────── v0.0.1\n",
      "\u001b[32m\u001b[1m  Installed\u001b[22m\u001b[39m RecursiveArrayTools ──────────── v2.7.2\n",
      "\u001b[32m\u001b[1m  Installed\u001b[22m\u001b[39m TableTraitsUtils ─────────────── v1.0.1\n",
      "\u001b[32m\u001b[1m  Installed\u001b[22m\u001b[39m FFMPEG ───────────────────────── v0.4.0\n",
      "\u001b[32m\u001b[1m  Installed\u001b[22m\u001b[39m JuliaVariables ───────────────── v0.2.3\n",
      "\u001b[32m\u001b[1m  Installed\u001b[22m\u001b[39m RDatasets ────────────────────── v0.6.10\n",
      "\u001b[32m\u001b[1m  Installed\u001b[22m\u001b[39m Widgets ──────────────────────── v0.6.2\n",
      "\u001b[32m\u001b[1m  Installed\u001b[22m\u001b[39m MKL_jll ──────────────────────── v2020.2.254+0\n",
      "\u001b[32m\u001b[1m  Installed\u001b[22m\u001b[39m Libiconv_jll ─────────────────── v1.16.0+7\n",
      "\u001b[32m\u001b[1m  Installed\u001b[22m\u001b[39m Arpack_jll ───────────────────── v3.5.0+3\n",
      "\u001b[32m\u001b[1m  Installed\u001b[22m\u001b[39m TranscodingStreams ───────────── v0.9.5\n",
      "\u001b[32m\u001b[1m  Installed\u001b[22m\u001b[39m GPUArrays ────────────────────── v5.2.1\n",
      "\u001b[32m\u001b[1m  Installed\u001b[22m\u001b[39m MLStyle ──────────────────────── v0.4.6\n",
      "\u001b[32m\u001b[1m  Installed\u001b[22m\u001b[39m x264_jll ─────────────────────── v2020.7.14+2\n",
      "\u001b[32m\u001b[1m  Installed\u001b[22m\u001b[39m Juno ─────────────────────────── v0.8.4\n",
      "\u001b[32m\u001b[1m  Installed\u001b[22m\u001b[39m ConsoleProgressMonitor ───────── v0.1.2\n",
      "\u001b[32m\u001b[1m  Installed\u001b[22m\u001b[39m TerminalLoggers ──────────────── v0.1.2\n",
      "\u001b[32m\u001b[1m  Installed\u001b[22m\u001b[39m Inflate ──────────────────────── v0.1.2\n",
      "\u001b[32m\u001b[1m  Installed\u001b[22m\u001b[39m NNlib ────────────────────────── v0.7.6\n",
      "\u001b[32m\u001b[1m  Installed\u001b[22m\u001b[39m MultivariateStats ────────────── v0.7.0\n",
      "\u001b[32m\u001b[1m  Installed\u001b[22m\u001b[39m StructTypes ──────────────────── v1.1.0\n",
      "\u001b[32m\u001b[1m  Installed\u001b[22m\u001b[39m ArrayLayouts ─────────────────── v0.3.8\n",
      "\u001b[32m\u001b[1m  Installed\u001b[22m\u001b[39m ZygoteRules ──────────────────── v0.2.0\n",
      "\u001b[32m\u001b[1m  Installed\u001b[22m\u001b[39m VertexSafeGraphs ─────────────── v0.1.2\n",
      "\u001b[32m\u001b[1m  Installed\u001b[22m\u001b[39m IniFile ──────────────────────── v0.5.0\n",
      "\u001b[32m\u001b[1m  Installed\u001b[22m\u001b[39m FFTW ─────────────────────────── v1.2.4\n",
      "\u001b[32m\u001b[1m  Installed\u001b[22m\u001b[39m Requires ─────────────────────── v1.0.3\n",
      "\u001b[32m\u001b[1m  Installed\u001b[22m\u001b[39m ZipFile ──────────────────────── v0.9.3\n",
      "\u001b[32m\u001b[1m  Installed\u001b[22m\u001b[39m SLEEFPirates ─────────────────── v0.5.5\n",
      "\u001b[32m\u001b[1m  Installed\u001b[22m\u001b[39m MacroTools ───────────────────── v0.5.6\n",
      "\u001b[32m\u001b[1m  Installed\u001b[22m\u001b[39m GeometryTypes ────────────────── v0.8.3\n",
      "\u001b[32m\u001b[1m  Installed\u001b[22m\u001b[39m DomainSets ───────────────────── v0.4.1\n",
      "\u001b[32m\u001b[1m  Installed\u001b[22m\u001b[39m ToeplitzMatrices ─────────────── v0.6.2\n",
      "\u001b[32m\u001b[1m  Installed\u001b[22m\u001b[39m CodecBzip2 ───────────────────── v0.7.2\n",
      "\u001b[32m\u001b[1m  Installed\u001b[22m\u001b[39m Tables ───────────────────────── v1.2.1\n",
      "\u001b[32m\u001b[1m  Installed\u001b[22m\u001b[39m LoggingExtras ────────────────── v0.4.2\n",
      "\u001b[32m\u001b[1m  Installed\u001b[22m\u001b[39m OffsetArrays ─────────────────── v1.4.0\n",
      "\u001b[32m\u001b[1m  Installed\u001b[22m\u001b[39m EllipsisNotation ─────────────── v0.4.0\n",
      "\u001b[32m\u001b[1m  Installed\u001b[22m\u001b[39m Grisu ────────────────────────── v1.0.0\n",
      "\u001b[32m\u001b[1m  Installed\u001b[22m\u001b[39m MPFR_jll ─────────────────────── v4.1.0+1\n",
      "\u001b[32m\u001b[1m  Installed\u001b[22m\u001b[39m libass_jll ───────────────────── v0.14.0+4\n",
      "\u001b[32m\u001b[1m  Installed\u001b[22m\u001b[39m ColorSchemes ─────────────────── v3.10.1\n",
      "\u001b[32m\u001b[1m  Installed\u001b[22m\u001b[39m RecipesPipeline ──────────────── v0.1.13\n",
      "\u001b[32m\u001b[1m  Installed\u001b[22m\u001b[39m GeneralizedGenerated ─────────── v0.2.8\n",
      "\u001b[32m\u001b[1m  Installed\u001b[22m\u001b[39m TimeZones ────────────────────── v1.5.1\n",
      "\u001b[32m\u001b[1m  Installed\u001b[22m\u001b[39m FunctionWrappers ─────────────── v1.1.1\n",
      "\u001b[32m\u001b[1m  Installed\u001b[22m\u001b[39m EzXML ────────────────────────── v1.1.0\n",
      "\u001b[32m\u001b[1m  Installed\u001b[22m\u001b[39m NameResolution ───────────────── v0.1.5\n",
      "\u001b[32m\u001b[1m  Installed\u001b[22m\u001b[39m Bzip2_jll ────────────────────── v1.0.6+5\n",
      "\u001b[32m\u001b[1m  Installed\u001b[22m\u001b[39m Rmath_jll ────────────────────── v0.2.2+1\n",
      "\u001b[32m\u001b[1m  Installed\u001b[22m\u001b[39m JSONSchema ───────────────────── v0.2.0\n",
      "\u001b[32m\u001b[1m  Installed\u001b[22m\u001b[39m StructArrays ─────────────────── v0.4.4\n",
      "\u001b[32m\u001b[1m  Installed\u001b[22m\u001b[39m PrettyPrint ──────────────────── v0.2.0\n",
      "\u001b[32m\u001b[1m  Installed\u001b[22m\u001b[39m QueryOperators ───────────────── v0.9.2\n",
      "\u001b[32m\u001b[1m  Installed\u001b[22m\u001b[39m libfdk_aac_jll ───────────────── v0.1.6+4\n",
      "\u001b[32m\u001b[1m  Installed\u001b[22m\u001b[39m Cassette ─────────────────────── v0.3.3\n",
      "\u001b[32m\u001b[1m  Installed\u001b[22m\u001b[39m JuliaInterpreter ─────────────── v0.8.4\n",
      "\u001b[32m\u001b[1m  Installed\u001b[22m\u001b[39m RData ────────────────────────── v0.7.3\n",
      "\u001b[32m\u001b[1m  Installed\u001b[22m\u001b[39m Parsers ──────────────────────── v1.0.12\n",
      "\u001b[32m\u001b[1m  Installed\u001b[22m\u001b[39m Intervals ────────────────────── v1.5.0\n",
      "\u001b[32m\u001b[1m  Installed\u001b[22m\u001b[39m CUDA ─────────────────────────── v1.3.3\n",
      "\u001b[32m\u001b[1m  Installed\u001b[22m\u001b[39m GenericSVD ───────────────────── v0.3.0\n",
      "\u001b[32m\u001b[1m  Installed\u001b[22m\u001b[39m CpuId ────────────────────────── v0.2.2\n",
      "\u001b[32m\u001b[1m  Installed\u001b[22m\u001b[39m CommonSubexpressions ─────────── v0.3.0\n",
      "\u001b[32m\u001b[1m  Installed\u001b[22m\u001b[39m DiffEqBase ───────────────────── v6.44.3\n",
      "\u001b[32m\u001b[1m  Installed\u001b[22m\u001b[39m ASL_jll ──────────────────────── v0.1.1+4\n",
      "\u001b[32m\u001b[1m  Installed\u001b[22m\u001b[39m SentinelArrays ───────────────── v1.2.16\n",
      "\u001b[32m\u001b[1m  Installed\u001b[22m\u001b[39m SortingAlgorithms ────────────── v0.3.1\n",
      "\u001b[32m\u001b[1m  Installed\u001b[22m\u001b[39m AbstractTrees ────────────────── v0.3.3\n",
      "\u001b[32m\u001b[1m  Installed\u001b[22m\u001b[39m DiffResults ──────────────────── v1.0.2\n",
      "\u001b[32m\u001b[1m  Installed\u001b[22m\u001b[39m Media ────────────────────────── v0.5.0\n",
      "\u001b[32m\u001b[1m  Installed\u001b[22m\u001b[39m SpecialFunctions ─────────────── v0.8.0\n",
      "\u001b[32m\u001b[1m  Installed\u001b[22m\u001b[39m DiffEqNoiseProcess ───────────── v3.11.0\n",
      "\u001b[32m\u001b[1m  Installed\u001b[22m\u001b[39m BinDeps ──────────────────────── v1.0.2\n",
      "\u001b[32m\u001b[1m  Installed\u001b[22m\u001b[39m EarCut_jll ───────────────────── v2.1.5+1\n",
      "\u001b[32m\u001b[1m  Installed\u001b[22m\u001b[39m TableOperations ──────────────── v0.2.1\n",
      "\u001b[32m\u001b[1m  Installed\u001b[22m\u001b[39m Rmath ────────────────────────── v0.6.1\n",
      "\u001b[32m\u001b[1m  Installed\u001b[22m\u001b[39m Adapt ────────────────────────── v2.3.0\n",
      "\u001b[32m\u001b[1m  Installed\u001b[22m\u001b[39m CEnum ────────────────────────── v0.4.1\n",
      "\u001b[32m\u001b[1m  Installed\u001b[22m\u001b[39m FastTransforms_jll ───────────── v0.3.3+0\n",
      "\u001b[32m\u001b[1m  Installed\u001b[22m\u001b[39m MuladdMacro ──────────────────── v0.2.2\n",
      "\u001b[32m\u001b[1m  Installed\u001b[22m\u001b[39m LimitedLDLFactorizations ─────── v0.3.0\n",
      "\u001b[32m\u001b[1m  Installed\u001b[22m\u001b[39m ApproxFunSingularities ───────── v0.2.0\n",
      "\u001b[32m\u001b[1m  Installed\u001b[22m\u001b[39m PyCall ───────────────────────── v1.92.1\n",
      "\u001b[32m\u001b[1m  Installed\u001b[22m\u001b[39m MathProgBase ─────────────────── v0.7.8\n",
      "\u001b[32m\u001b[1m  Installed\u001b[22m\u001b[39m Opus_jll ─────────────────────── v1.3.1+3\n",
      "\u001b[32m\u001b[1m  Installed\u001b[22m\u001b[39m WoodburyMatrices ─────────────── v0.5.3\n",
      "\u001b[32m\u001b[1m  Installed\u001b[22m\u001b[39m LAME_jll ─────────────────────── v3.100.0+3\n",
      "\u001b[32m\u001b[1m  Installed\u001b[22m\u001b[39m NaNMath ──────────────────────── v0.3.5\n",
      "\u001b[32m\u001b[1m  Installed\u001b[22m\u001b[39m AMD ──────────────────────────── v0.4.0\n",
      "\u001b[32m\u001b[1m  Installed\u001b[22m\u001b[39m RecursiveFactorization ───────── v0.1.4\n",
      "\u001b[32m\u001b[1m  Installed\u001b[22m\u001b[39m DSP ──────────────────────────── v0.6.9\n",
      "\u001b[32m\u001b[1m  Installed\u001b[22m\u001b[39m OrderedCollections ───────────── v1.3.2\n",
      "\u001b[32m\u001b[1m  Installed\u001b[22m\u001b[39m CodecZlib ────────────────────── v0.7.0\n",
      "\u001b[32m\u001b[1m  Installed\u001b[22m\u001b[39m FixedPointNumbers ────────────── v0.8.4\n",
      "\u001b[32m\u001b[1m  Installed\u001b[22m\u001b[39m TableShowUtils ───────────────── v0.2.5\n",
      "\u001b[32m\u001b[1m  Installed\u001b[22m\u001b[39m StatsFuns ────────────────────── v0.9.6\n",
      "\u001b[32m\u001b[1m  Installed\u001b[22m\u001b[39m IntelOpenMP_jll ──────────────── v2018.0.3+0\n",
      "\u001b[32m\u001b[1m  Installed\u001b[22m\u001b[39m URIParser ────────────────────── v0.4.1\n",
      "\u001b[32m\u001b[1m  Installed\u001b[22m\u001b[39m Mustache ─────────────────────── v1.0.8\n",
      "\u001b[32m\u001b[1m  Installed\u001b[22m\u001b[39m FilePathsBase ────────────────── v0.9.5\n",
      "\u001b[32m\u001b[1m  Installed\u001b[22m\u001b[39m GMP_jll ──────────────────────── v6.1.2+6\n",
      "\u001b[32m\u001b[1m  Installed\u001b[22m\u001b[39m Latexify ─────────────────────── v0.13.5\n",
      "\u001b[32m\u001b[1m  Installed\u001b[22m\u001b[39m NearestNeighbors ─────────────── v0.4.7\n",
      "\u001b[32m\u001b[1m  Installed\u001b[22m\u001b[39m FFTW_jll ─────────────────────── v3.3.9+6\n",
      "\u001b[32m\u001b[1m  Installed\u001b[22m\u001b[39m CompilerSupportLibraries_jll ─── v0.3.4+0\n",
      "\u001b[32m\u001b[1m  Installed\u001b[22m\u001b[39m Functors ─────────────────────── v0.1.0\n",
      "\u001b[32m\u001b[1m  Installed\u001b[22m\u001b[39m DataValues ───────────────────── v0.4.13\n",
      "\u001b[32m\u001b[1m  Installed\u001b[22m\u001b[39m ChainRules ───────────────────── v0.6.5\n",
      "\u001b[32m\u001b[1m  Installed\u001b[22m\u001b[39m VectorizationBase ────────────── v0.12.33\n",
      "\u001b[32m\u001b[1m  Installed\u001b[22m\u001b[39m Distances ────────────────────── v0.9.2\n",
      "\u001b[32m\u001b[1m  Installed\u001b[22m\u001b[39m RecipesBase ──────────────────── v1.1.1\n",
      "\u001b[32m\u001b[1m  Installed\u001b[22m\u001b[39m LoopVectorization ────────────── v0.8.26\n",
      "\u001b[32m\u001b[1m  Installed\u001b[22m\u001b[39m InfiniteArrays ───────────────── v0.7.3\n",
      "\u001b[32m\u001b[1m  Installed\u001b[22m\u001b[39m METIS_jll ────────────────────── v5.1.0+5\n",
      "\u001b[32m\u001b[1m  Installed\u001b[22m\u001b[39m Reexport ─────────────────────── v0.2.0\n",
      "\u001b[32m\u001b[1m  Installed\u001b[22m\u001b[39m Combinatorics ────────────────── v1.0.2\n",
      "\u001b[32m\u001b[1m  Installed\u001b[22m\u001b[39m Vega ─────────────────────────── v2.0.0\n",
      "\u001b[32m\u001b[1m  Installed\u001b[22m\u001b[39m NLSolversBase ────────────────── v7.5.0\n",
      "\u001b[32m\u001b[1m  Installed\u001b[22m\u001b[39m Dierckx_jll ──────────────────── v0.0.1+0\n",
      "\u001b[32m\u001b[1m  Installed\u001b[22m\u001b[39m ApproxFunFourier ─────────────── v0.2.5\n",
      "\u001b[32m\u001b[1m  Installed\u001b[22m\u001b[39m PooledArrays ─────────────────── v0.5.3\n",
      "\u001b[32m\u001b[1m  Installed\u001b[22m\u001b[39m LoweredCodeUtils ─────────────── v1.2.6\n",
      "\u001b[32m\u001b[1m  Installed\u001b[22m\u001b[39m MathOptInterface ─────────────── v0.9.13\n",
      "\u001b[32m\u001b[1m  Installed\u001b[22m\u001b[39m LowRankApprox ────────────────── v0.4.2\n",
      "\u001b[32m\u001b[1m  Installed\u001b[22m\u001b[39m Clustering ───────────────────── v0.14.2\n",
      "\u001b[32m\u001b[1m  Installed\u001b[22m\u001b[39m Showoff ──────────────────────── v0.3.2\n",
      "\u001b[32m\u001b[1m  Installed\u001b[22m\u001b[39m BlockArrays ──────────────────── v0.12.11\n",
      "\u001b[32m\u001b[1m  Installed\u001b[22m\u001b[39m SimpleTraits ─────────────────── v0.9.3\n",
      "\u001b[32m\u001b[1mNo Changes\u001b[22m\u001b[39m to `~/github-anari/tor-quantecon-jl/Project.toml`\n",
      "\u001b[32m\u001b[1mUpdating\u001b[22m\u001b[39m `~/github-anari/tor-quantecon-jl/Manifest.toml`\n",
      " \u001b[90m [9e28174c] \u001b[39m\u001b[93m↑ BinDeps v1.0.1 ⇒ v1.0.2\u001b[39m\n",
      " \u001b[90m [336ed68f] \u001b[39m\u001b[93m↑ CSV v0.7.7 ⇒ v0.7.10\u001b[39m\n",
      " \u001b[90m [d38c429a] \u001b[39m\u001b[93m↑ Contour v0.5.5 ⇒ v0.5.6\u001b[39m\n",
      " \u001b[90m [717857b8] \u001b[39m\u001b[93m↑ DSP v0.6.8 ⇒ v0.6.9\u001b[39m\n",
      " \u001b[90m [b552c78f] \u001b[39m\u001b[93m↑ DiffRules v1.0.1 ⇒ v1.0.2\u001b[39m\n",
      " \u001b[90m [fa6b7ba4] \u001b[39m\u001b[93m↑ DualNumbers v0.6.2 ⇒ v0.6.3\u001b[39m\n",
      " \u001b[90m [9cc047cb] \u001b[39m\u001b[95m↓ Ipopt_jll v3.13.2+0 ⇒ v3.13.1+1\u001b[39m\n",
      " \u001b[90m [aa1ae85d] \u001b[39m\u001b[93m↑ JuliaInterpreter v0.8.3 ⇒ v0.8.4\u001b[39m\n",
      " \u001b[90m [6f1432cf] \u001b[39m\u001b[93m↑ LoweredCodeUtils v1.2.5 ⇒ v1.2.6\u001b[39m\n",
      " \u001b[90m [d7ed1dd3] \u001b[39m\u001b[93m↑ MUMPS_seq_jll v5.2.1+4 ⇒ v5.3.5+0\u001b[39m\n",
      " \u001b[90m [d8a4904e] \u001b[39m\u001b[93m↑ MutableArithmetics v0.2.11 ⇒ v0.2.12\u001b[39m\n",
      " \u001b[90m [079eb43e] \u001b[39m\u001b[93m↑ NLopt_jll v2.6.2+0 ⇒ v2.7.0+0\u001b[39m\n",
      " \u001b[90m [77ba4419] \u001b[39m\u001b[93m↑ NaNMath v0.3.4 ⇒ v0.3.5\u001b[39m\n",
      " \u001b[90m [656ef2d0] \u001b[39m\u001b[95m↓ OpenBLAS32_jll v0.3.10+0 ⇒ v0.3.9+4\u001b[39m\n",
      " \u001b[90m [69de0a69] \u001b[39m\u001b[93m↑ Parsers v1.0.11 ⇒ v1.0.12\u001b[39m\n",
      " \u001b[90m [85a6dd25] \u001b[39m\u001b[93m↑ PositiveFactorizations v0.2.3 ⇒ v0.2.4\u001b[39m\n",
      " \u001b[90m [df47a6cb] \u001b[39m\u001b[93m↑ RData v0.7.2 ⇒ v0.7.3\u001b[39m\n",
      " \u001b[90m [3cdcf5f2] \u001b[39m\u001b[93m↑ RecipesBase v1.1.0 ⇒ v1.1.1\u001b[39m\n",
      " \u001b[90m [21efa798] \u001b[39m\u001b[93m↑ SIMDPirates v0.8.25 ⇒ v0.8.26\u001b[39m\n",
      " \u001b[90m [4c63d2b9] \u001b[39m\u001b[93m↑ StatsFuns v0.9.5 ⇒ v0.9.6\u001b[39m\n",
      " \u001b[90m [bd369af6] \u001b[39m\u001b[93m↑ Tables v1.1.0 ⇒ v1.2.1\u001b[39m\n",
      " \u001b[90m [f269a46b] \u001b[39m\u001b[93m↑ TimeZones v1.5.0 ⇒ v1.5.1\u001b[39m\n",
      "\u001b[32m\u001b[1m   Building\u001b[22m\u001b[39m Preconditioners ─→ `/opt/julia/packages/Preconditioners/uMaQw/deps/build.log`\n",
      "\u001b[32m\u001b[1m   Building\u001b[22m\u001b[39m GR ──────────────→ `/opt/julia/packages/GR/BwGt2/deps/build.log`\n",
      "\u001b[32m\u001b[1m   Building\u001b[22m\u001b[39m Plots ───────────→ `/opt/julia/packages/Plots/hyS17/deps/build.log`\n",
      "\u001b[32m\u001b[1m   Building\u001b[22m\u001b[39m Ipopt ───────────→ `/opt/julia/packages/Ipopt/bYzBL/deps/build.log`\n",
      "\u001b[32m\u001b[1m   Building\u001b[22m\u001b[39m SpecialFunctions → `/opt/julia/packages/SpecialFunctions/ne2iw/deps/build.log`\n",
      "\u001b[32m\u001b[1m   Building\u001b[22m\u001b[39m FFTW ────────────→ `/opt/julia/packages/FFTW/DMUbN/deps/build.log`\n",
      "\u001b[32m\u001b[1m   Building\u001b[22m\u001b[39m TimeZones ───────→ `/opt/julia/packages/TimeZones/CNOFt/deps/build.log`\n",
      "\u001b[32m\u001b[1m   Building\u001b[22m\u001b[39m FastTransforms ──→ `/opt/julia/packages/FastTransforms/LB2TC/deps/build.log`\n",
      "\u001b[32m\u001b[1m   Building\u001b[22m\u001b[39m SLEEFPirates ────→ `/opt/julia/packages/SLEEFPirates/jGsib/deps/build.log`\n",
      "\u001b[32m\u001b[1m   Building\u001b[22m\u001b[39m PyCall ──────────→ `/opt/julia/packages/PyCall/BcTLp/deps/build.log`\n"
     ]
    }
   ],
   "source": [
    "] add BenchmarkTools"
   ]
  },
  {
   "cell_type": "code",
   "execution_count": 19,
   "metadata": {},
   "outputs": [
    {
     "name": "stderr",
     "output_type": "stream",
     "text": [
      "┌ Info: Precompiling BenchmarkTools [6e4b80f9-dd63-53aa-95a3-0cdb28fa8baf]\n",
      "└ @ Base loading.jl:1278\n"
     ]
    },
    {
     "name": "stdout",
     "output_type": "stream",
     "text": [
      "  3.600 μs (2 allocations: 78.20 KiB)\n",
      "  4.200 μs (2 allocations: 78.20 KiB)\n",
      "  3.200 ns (0 allocations: 0 bytes)\n"
     ]
    }
   ],
   "source": [
    "using BenchmarkTools\n",
    "@btime sum([f(x) for x in $xs])\n",
    "@btime sum(f.($xs))\n",
    "@btime sum(f(x) for x in $xs);"
   ]
  },
  {
   "cell_type": "markdown",
   "metadata": {},
   "source": [
    "# Broadcasting "
   ]
  },
  {
   "cell_type": "code",
   "execution_count": 20,
   "metadata": {},
   "outputs": [
    {
     "data": {
      "text/plain": [
       "4-element Array{Float64,1}:\n",
       "  0.9092974268256817\n",
       " -0.7568024953079282\n",
       " -0.27941549819892586\n",
       "  0.9893582466233818"
      ]
     },
     "execution_count": 20,
     "metadata": {},
     "output_type": "execute_result"
    }
   ],
   "source": [
    "x_vec = [2,4,6,8]\n",
    "y_vec = sin.(x_vec)"
   ]
  },
  {
   "cell_type": "code",
   "execution_count": 34,
   "metadata": {},
   "outputs": [
    {
     "data": {
      "text/plain": [
       "5-element Array{Float64,1}:\n",
       "  2.1585290151921033\n",
       "  5.090702573174318\n",
       "  7.858879991940133\n",
       " 10.756802495307928\n",
       " 13.958924274663138"
      ]
     },
     "execution_count": 34,
     "metadata": {},
     "output_type": "execute_result"
    }
   ],
   "source": [
    "x = 1.0:1.0:5.0\n",
    "y = [2.0, 4.0, 5.0, 6.0, 8.0]\n",
    "z = similar(y)\n",
    "\n",
    "z .= x .+ y .- sin.(x)"
   ]
  },
  {
   "cell_type": "code",
   "execution_count": 35,
   "metadata": {},
   "outputs": [
    {
     "data": {
      "text/plain": [
       "5-element Array{Float64,1}:\n",
       "  2.1585290151921033\n",
       "  5.090702573174318\n",
       "  7.858879991940133\n",
       " 10.756802495307928\n",
       " 13.958924274663138"
      ]
     },
     "execution_count": 35,
     "metadata": {},
     "output_type": "execute_result"
    }
   ],
   "source": [
    "@. z = x + y - sin(x)"
   ]
  },
  {
   "cell_type": "code",
   "execution_count": 23,
   "metadata": {},
   "outputs": [
    {
     "name": "stdout",
     "output_type": "stream",
     "text": [
      "x = 1.0:1.0:5.0\n"
     ]
    },
    {
     "data": {
      "text/plain": [
       "1.0:1.0:5.0"
      ]
     },
     "execution_count": 23,
     "metadata": {},
     "output_type": "execute_result"
    }
   ],
   "source": [
    "@show x"
   ]
  },
  {
   "cell_type": "code",
   "execution_count": 24,
   "metadata": {},
   "outputs": [
    {
     "data": {
      "text/plain": [
       "1:3"
      ]
     },
     "execution_count": 24,
     "metadata": {},
     "output_type": "execute_result"
    }
   ],
   "source": [
    "x = 1:3"
   ]
  },
  {
   "cell_type": "code",
   "execution_count": 26,
   "metadata": {},
   "outputs": [
    {
     "data": {
      "text/plain": [
       "1"
      ]
     },
     "execution_count": 26,
     "metadata": {},
     "output_type": "execute_result"
    }
   ],
   "source": [
    "x[1]"
   ]
  },
  {
   "cell_type": "code",
   "execution_count": 39,
   "metadata": {},
   "outputs": [
    {
     "data": {
      "text/plain": [
       "2-element Array{Int64,1}:\n",
       " 28\n",
       " 29"
      ]
     },
     "execution_count": 39,
     "metadata": {},
     "output_type": "execute_result"
    }
   ],
   "source": [
    "f(x,y) = [1,2,3] ⋅ x + y \n",
    "f([3,4,5], 2)\n",
    "\n",
    "f.(Ref([3,4,5]), [2,3])"
   ]
  },
  {
   "cell_type": "markdown",
   "metadata": {},
   "source": [
    "# Scope"
   ]
  },
  {
   "cell_type": "code",
   "execution_count": 4,
   "metadata": {},
   "outputs": [
    {
     "data": {
      "text/plain": [
       "2.1"
      ]
     },
     "execution_count": 4,
     "metadata": {},
     "output_type": "execute_result"
    }
   ],
   "source": [
    "f(x; y=1) = x + y \n",
    "x, y = 0.1, 2\n",
    "f(x; y)"
   ]
  },
  {
   "cell_type": "code",
   "execution_count": 5,
   "metadata": {},
   "outputs": [
    {
     "data": {
      "text/plain": [
       "5-element Array{Int64,1}:\n",
       "  1\n",
       "  4\n",
       "  9\n",
       " 16\n",
       " 25"
      ]
     },
     "execution_count": 5,
     "metadata": {},
     "output_type": "execute_result"
    }
   ],
   "source": [
    "f(x) = x^2\n",
    "x = 1:5\n",
    "f.(x)"
   ]
  },
  {
   "cell_type": "markdown",
   "metadata": {},
   "source": [
    "# Higher-Order Functions"
   ]
  },
  {
   "cell_type": "code",
   "execution_count": 7,
   "metadata": {},
   "outputs": [
    {
     "name": "stdout",
     "output_type": "stream",
     "text": [
      "d = Exponential(2.0) = Exponential{Float64}(θ=2.0)\n",
      "expectation(f, d) = 8.00000000000004\n"
     ]
    },
    {
     "data": {
      "text/plain": [
       "8.00000000000004"
      ]
     },
     "execution_count": 7,
     "metadata": {},
     "output_type": "execute_result"
    }
   ],
   "source": [
    "using Expectations, Distributions\n",
    "\n",
    "@show d = Exponential(2.0)\n",
    "f(x) = x^2 \n",
    "\n",
    "@show expectation(f, d)"
   ]
  },
  {
   "cell_type": "code",
   "execution_count": 8,
   "metadata": {},
   "outputs": [
    {
     "data": {
      "text/plain": [
       "(::var\"#f#3\"{typeof(f),Int64}) (generic function with 1 method)"
      ]
     },
     "execution_count": 8,
     "metadata": {},
     "output_type": "execute_result"
    }
   ],
   "source": [
    "function snapabove(g, a)\n",
    "    function f(x)\n",
    "        if x > a \n",
    "            return g(x)\n",
    "        else \n",
    "            return g(a)\n",
    "        end\n",
    "    end\n",
    "    return f \n",
    "end\n",
    "\n",
    "f(x) = x^2 \n",
    "h = snapabove(f, 2)"
   ]
  },
  {
   "cell_type": "code",
   "execution_count": 9,
   "metadata": {},
   "outputs": [
    {
     "name": "stderr",
     "output_type": "stream",
     "text": [
      "┌ Info: Precompiling Plots [91a5bcdd-55d7-5caf-9e0b-520d859cae80]\n",
      "└ @ Base loading.jl:1278\n"
     ]
    },
    {
     "data": {
      "image/png": "[encoded data removed]"
     },
     "execution_count": 9,
     "metadata": {},
     "output_type": "execute_result"
    }
   ],
   "source": [
    "using Plots \n",
    "gr(fmt=:png); \n",
    "plot(h, 0.0:0.1:3.0)"
   ]
  },
  {
   "cell_type": "markdown",
   "metadata": {},
   "source": [
    "# Excercises"
   ]
  },
  {
   "cell_type": "markdown",
   "metadata": {},
   "source": [
    "## Exercise 1"
   ]
  },
  {
   "cell_type": "code",
   "execution_count": 16,
   "metadata": {},
   "outputs": [
    {
     "name": "stdout",
     "output_type": "stream",
     "text": [
      "4\n",
      "10\n",
      "18\n",
      "28\n"
     ]
    },
    {
     "data": {
      "text/plain": [
       "60"
      ]
     },
     "execution_count": 16,
     "metadata": {},
     "output_type": "execute_result"
    }
   ],
   "source": [
    "x_val = [1,2,3,4]; y_val = [4,5,6,7];\n",
    "\n",
    "for (x, y) in zip(x_val, y_val)\n",
    "    println(x*y)\n",
    "end\n",
    "\n",
    "sum(x * y for (x, y) in zip(x_val, y_val))"
   ]
  },
  {
   "cell_type": "code",
   "execution_count": 20,
   "metadata": {},
   "outputs": [
    {
     "data": {
      "text/plain": [
       "50"
      ]
     },
     "execution_count": 20,
     "metadata": {},
     "output_type": "execute_result"
    }
   ],
   "source": [
    "sum(iseven(i) for i in 0:99)\n",
    "sum(iseven, 0:99)"
   ]
  },
  {
   "cell_type": "code",
   "execution_count": 22,
   "metadata": {},
   "outputs": [
    {
     "data": {
      "text/plain": [
       "2"
      ]
     },
     "execution_count": 22,
     "metadata": {},
     "output_type": "execute_result"
    }
   ],
   "source": [
    "pairs = ((2, 5), (4, 2), (9, 8), (12, 10))\n",
    "sum(iseven(x) && iseven(y) for (x,y) in pairs)\n",
    "sum(xy -> all(iseven, xy), pairs)        "
   ]
  },
  {
   "cell_type": "markdown",
   "metadata": {},
   "source": [
    "## Exercises 2"
   ]
  },
  {
   "cell_type": "code",
   "execution_count": 26,
   "metadata": {},
   "outputs": [
    {
     "data": {
      "text/plain": [
       "p (generic function with 1 method)"
      ]
     },
     "execution_count": 26,
     "metadata": {},
     "output_type": "execute_result"
    }
   ],
   "source": [
    "p(x, coeff) = sum(a * x^(i-1) for (i, a) in enumerate(coeff))"
   ]
  },
  {
   "cell_type": "code",
   "execution_count": 27,
   "metadata": {},
   "outputs": [
    {
     "data": {
      "text/plain": [
       "11"
      ]
     },
     "execution_count": 27,
     "metadata": {},
     "output_type": "execute_result"
    }
   ],
   "source": [
    "p(1,(2,4,5))"
   ]
  },
  {
   "cell_type": "markdown",
   "metadata": {},
   "source": [
    "## Exercises 3"
   ]
  },
  {
   "cell_type": "code",
   "execution_count": 35,
   "metadata": {},
   "outputs": [
    {
     "data": {
      "text/plain": [
       "get_number_of_capital_letters (generic function with 1 method)"
      ]
     },
     "execution_count": 35,
     "metadata": {},
     "output_type": "execute_result"
    }
   ],
   "source": [
    "function get_number_of_capital_letters(x_str)    \n",
    "    sum(x == uppercase(x) for x in x_str)\n",
    "end"
   ]
  },
  {
   "cell_type": "code",
   "execution_count": 37,
   "metadata": {},
   "outputs": [
    {
     "data": {
      "text/plain": [
       "4"
      ]
     },
     "execution_count": 37,
     "metadata": {},
     "output_type": "execute_result"
    }
   ],
   "source": [
    "get_number_of_capital_letters(\"sfWTGA\")"
   ]
  },
  {
   "cell_type": "markdown",
   "metadata": {},
   "source": [
    "## Exercies 4"
   ]
  },
  {
   "cell_type": "code",
   "execution_count": 38,
   "metadata": {},
   "outputs": [
    {
     "data": {
      "text/plain": [
       "(false, false, true, true)"
      ]
     },
     "execution_count": 38,
     "metadata": {},
     "output_type": "execute_result"
    }
   ],
   "source": [
    "seq_a = (1,2,3,4)\n",
    "seq_b = (3,4,5,6,7)\n",
    "\n",
    "in.(seq_a, Ref(seq_b))"
   ]
  },
  {
   "cell_type": "markdown",
   "metadata": {},
   "source": [
    "## Exercises 5"
   ]
  },
  {
   "cell_type": "code",
   "execution_count": 13,
   "metadata": {},
   "outputs": [
    {
     "data": {
      "text/plain": [
       "3.3333333333333335"
      ]
     },
     "execution_count": 13,
     "metadata": {},
     "output_type": "execute_result"
    }
   ],
   "source": [
    "a = 10; b = 20; \n",
    "\n",
    "\n"
   ]
  },
  {
   "cell_type": "code",
   "execution_count": 33,
   "metadata": {},
   "outputs": [
    {
     "data": {
      "text/plain": [
       "map_f_to_interval (generic function with 1 method)"
      ]
     },
     "execution_count": 33,
     "metadata": {},
     "output_type": "execute_result"
    }
   ],
   "source": [
    "function map_f_to_interval(f, a, b, n)\n",
    "    @assert b > a   \n",
    "    Δ=(b-a)/(n-1)\n",
    "    z = Vector{Float64}() \n",
    "    append!(z, a)\n",
    "    for i in 1:(n-2)\n",
    "        append!(z, z[end] + Δ)\n",
    "    end\n",
    "    append!(z, b) \n",
    "    return f.(z)\n",
    "end"
   ]
  },
  {
   "cell_type": "code",
   "execution_count": 39,
   "metadata": {},
   "outputs": [
    {
     "data": {
      "text/plain": [
       "20-element Array{Float64,1}:\n",
       " 3.1622776601683795\n",
       " 3.3245498310218435\n",
       " 3.4792618696922966\n",
       " 3.6273812505500582\n",
       " 3.7696851746252595\n",
       " 3.906809170504344\n",
       " 4.039280811442082\n",
       " 4.167543767332454\n",
       " 4.291975376394761\n",
       " 4.412899750790439\n",
       " 4.530597729822599\n",
       " 4.645314560761312\n",
       " 4.757265910937545\n",
       " 4.866642633922877\n",
       " 4.973614591548401\n",
       " 5.078333750770083\n",
       " 5.180936716768302\n",
       " 5.281546822864044\n",
       " 5.380275868489705\n",
       " 5.477225575051661"
      ]
     },
     "execution_count": 39,
     "metadata": {},
     "output_type": "execute_result"
    }
   ],
   "source": [
    "map_f_to_interval(x -> x^(1/2), 10, 30, 20)"
   ]
  },
  {
   "cell_type": "code",
   "execution_count": 41,
   "metadata": {},
   "outputs": [
    {
     "data": {
      "text/plain": [
       "linapprox (generic function with 1 method)"
      ]
     },
     "execution_count": 41,
     "metadata": {},
     "output_type": "execute_result"
    }
   ],
   "source": [
    "function linapprox(f, a, b, n, x)\n",
    "    \n",
    "    length_of_interval = b - a\n",
    "    number_of_subintervals = n -1 \n",
    "    step = length_of_interval / number_of_subintervals\n",
    "    \n",
    "    point = a \n",
    "    while point ≤ x \n",
    "        point += step \n",
    "    end\n",
    "    \n",
    "    u, v = point - step, point \n",
    "    \n",
    "    return f(u) + (x-u)*(f(v) - f(u)) / (v-u)  \n",
    "end    "
   ]
  },
  {
   "cell_type": "code",
   "execution_count": 42,
   "metadata": {},
   "outputs": [
    {
     "data": {
      "text/plain": [
       "g_ex5 (generic function with 1 method)"
      ]
     },
     "execution_count": 42,
     "metadata": {},
     "output_type": "execute_result"
    }
   ],
   "source": [
    "f_ex5(x) = x^2\n",
    "g_ex5(x) = linapprox(f_ex5, -1, 1, 3, x)"
   ]
  },
  {
   "cell_type": "code",
   "execution_count": 45,
   "metadata": {},
   "outputs": [
    {
     "data": {
      "image/svg+xml": [
       "<?xml version=\"1.0\" encoding=\"utf-8\"?>\n",
       "<svg xmlns=\"http://www.w3.org/2000/svg\" xmlns:xlink=\"http://www.w3.org/1999/xlink\" width=\"600\" height=\"400\" viewBox=\"0 0 2400 1600\">\n",
       "<defs>\n",
       "  <clipPath id=\"clip900\">\n",
       "    <rect x=\"0\" y=\"0\" width=\"2400\" height=\"1600\"/>\n",
       "  </clipPath>\n",
       "</defs>\n",
       "<path clip-path=\"url(#clip900)\" d=\"\n",
       "M0 1600 L2400 1600 L2400 0 L0 0  Z\n",
       "  \" fill=\"#ffffff\" fill-rule=\"evenodd\" fill-opacity=\"1\"/>\n",
       "<defs>\n",
       "  <clipPath id=\"clip901\">\n",
       "    <rect x=\"480\" y=\"0\" width=\"1681\" height=\"1600\"/>\n",
       "  </clipPath>\n",
       "</defs>\n",
       "<path clip-path=\"url(#clip900)\" d=\"\n",
       "M174.862 1486.45 L2352.76 1486.45 L2352.76 47.2441 L174.862 47.2441  Z\n",
       "  \" fill=\"#ffffff\" fill-rule=\"evenodd\" fill-opacity=\"1\"/>\n",
       "<defs>\n",
       "  <clipPath id=\"clip902\">\n",
       "    <rect x=\"174\" y=\"47\" width=\"2179\" height=\"1440\"/>\n",
       "  </clipPath>\n",
       "</defs>\n",
       "<polyline clip-path=\"url(#clip902)\" style=\"stroke:#000000; stroke-width:2; stroke-opacity:0.1; fill:none\" points=\"\n",
       "  236.501,1486.45 236.501,47.2441 \n",
       "  \"/>\n",
       "<polyline clip-path=\"url(#clip902)\" style=\"stroke:#000000; stroke-width:2; stroke-opacity:0.1; fill:none\" points=\"\n",
       "  750.155,1486.45 750.155,47.2441 \n",
       "  \"/>\n",
       "<polyline clip-path=\"url(#clip902)\" style=\"stroke:#000000; stroke-width:2; stroke-opacity:0.1; fill:none\" points=\"\n",
       "  1263.81,1486.45 1263.81,47.2441 \n",
       "  \"/>\n",
       "<polyline clip-path=\"url(#clip902)\" style=\"stroke:#000000; stroke-width:2; stroke-opacity:0.1; fill:none\" points=\"\n",
       "  1777.46,1486.45 1777.46,47.2441 \n",
       "  \"/>\n",
       "<polyline clip-path=\"url(#clip902)\" style=\"stroke:#000000; stroke-width:2; stroke-opacity:0.1; fill:none\" points=\"\n",
       "  2291.12,1486.45 2291.12,47.2441 \n",
       "  \"/>\n",
       "<polyline clip-path=\"url(#clip900)\" style=\"stroke:#000000; stroke-width:4; stroke-opacity:1; fill:none\" points=\"\n",
       "  174.862,1486.45 2352.76,1486.45 \n",
       "  \"/>\n",
       "<polyline clip-path=\"url(#clip900)\" style=\"stroke:#000000; stroke-width:4; stroke-opacity:1; fill:none\" points=\"\n",
       "  236.501,1486.45 236.501,1469.18 \n",
       "  \"/>\n",
       "<polyline clip-path=\"url(#clip900)\" style=\"stroke:#000000; stroke-width:4; stroke-opacity:1; fill:none\" points=\"\n",
       "  750.155,1486.45 750.155,1469.18 \n",
       "  \"/>\n",
       "<polyline clip-path=\"url(#clip900)\" style=\"stroke:#000000; stroke-width:4; stroke-opacity:1; fill:none\" points=\"\n",
       "  1263.81,1486.45 1263.81,1469.18 \n",
       "  \"/>\n",
       "<polyline clip-path=\"url(#clip900)\" style=\"stroke:#000000; stroke-width:4; stroke-opacity:1; fill:none\" points=\"\n",
       "  1777.46,1486.45 1777.46,1469.18 \n",
       "  \"/>\n",
       "<polyline clip-path=\"url(#clip900)\" style=\"stroke:#000000; stroke-width:4; stroke-opacity:1; fill:none\" points=\"\n",
       "  2291.12,1486.45 2291.12,1469.18 \n",
       "  \"/>\n",
       "<path clip-path=\"url(#clip900)\" d=\"M 0 0 M190.286 1530.29 L219.961 1530.29 L219.961 1534.23 L190.286 1534.23 L190.286 1530.29 Z\" fill=\"#000000\" fill-rule=\"evenodd\" fill-opacity=\"1\" /><path clip-path=\"url(#clip900)\" d=\"M 0 0 M225.841 1543.18 L233.48 1543.18 L233.48 1516.82 L225.17 1518.49 L225.17 1514.23 L233.433 1512.56 L238.109 1512.56 L238.109 1543.18 L245.748 1543.18 L245.748 1547.12 L225.841 1547.12 L225.841 1543.18 Z\" fill=\"#000000\" fill-rule=\"evenodd\" fill-opacity=\"1\" /><path clip-path=\"url(#clip900)\" d=\"M 0 0 M250.818 1541.24 L255.702 1541.24 L255.702 1547.12 L250.818 1547.12 L250.818 1541.24 Z\" fill=\"#000000\" fill-rule=\"evenodd\" fill-opacity=\"1\" /><path clip-path=\"url(#clip900)\" d=\"M 0 0 M270.771 1515.64 Q267.16 1515.64 265.331 1519.2 Q263.526 1522.75 263.526 1529.87 Q263.526 1536.98 265.331 1540.55 Q267.16 1544.09 270.771 1544.09 Q274.405 1544.09 276.211 1540.55 Q278.04 1536.98 278.04 1529.87 Q278.04 1522.75 276.211 1519.2 Q274.405 1515.64 270.771 1515.64 M270.771 1511.93 Q276.581 1511.93 279.637 1516.54 Q282.716 1521.12 282.716 1529.87 Q282.716 1538.6 279.637 1543.21 Q276.581 1547.79 270.771 1547.79 Q264.961 1547.79 261.882 1543.21 Q258.827 1538.6 258.827 1529.87 Q258.827 1521.12 261.882 1516.54 Q264.961 1511.93 270.771 1511.93 Z\" fill=\"#000000\" fill-rule=\"evenodd\" fill-opacity=\"1\" /><path clip-path=\"url(#clip900)\" d=\"M 0 0 M703.824 1530.29 L733.5 1530.29 L733.5 1534.23 L703.824 1534.23 L703.824 1530.29 Z\" fill=\"#000000\" fill-rule=\"evenodd\" fill-opacity=\"1\" /><path clip-path=\"url(#clip900)\" d=\"M 0 0 M748.569 1515.64 Q744.958 1515.64 743.129 1519.2 Q741.324 1522.75 741.324 1529.87 Q741.324 1536.98 743.129 1540.55 Q744.958 1544.09 748.569 1544.09 Q752.203 1544.09 754.009 1540.55 Q755.838 1536.98 755.838 1529.87 Q755.838 1522.75 754.009 1519.2 Q752.203 1515.64 748.569 1515.64 M748.569 1511.93 Q754.379 1511.93 757.435 1516.54 Q760.513 1521.12 760.513 1529.87 Q760.513 1538.6 757.435 1543.21 Q754.379 1547.79 748.569 1547.79 Q742.759 1547.79 739.68 1543.21 Q736.625 1538.6 736.625 1529.87 Q736.625 1521.12 739.68 1516.54 Q742.759 1511.93 748.569 1511.93 Z\" fill=\"#000000\" fill-rule=\"evenodd\" fill-opacity=\"1\" /><path clip-path=\"url(#clip900)\" d=\"M 0 0 M765.583 1541.24 L770.467 1541.24 L770.467 1547.12 L765.583 1547.12 L765.583 1541.24 Z\" fill=\"#000000\" fill-rule=\"evenodd\" fill-opacity=\"1\" /><path clip-path=\"url(#clip900)\" d=\"M 0 0 M775.583 1512.56 L793.939 1512.56 L793.939 1516.5 L779.865 1516.5 L779.865 1524.97 Q780.884 1524.62 781.902 1524.46 Q782.921 1524.27 783.939 1524.27 Q789.726 1524.27 793.106 1527.44 Q796.486 1530.62 796.486 1536.03 Q796.486 1541.61 793.013 1544.71 Q789.541 1547.79 783.222 1547.79 Q781.046 1547.79 778.777 1547.42 Q776.532 1547.05 774.125 1546.31 L774.125 1541.61 Q776.208 1542.74 778.43 1543.3 Q780.652 1543.86 783.129 1543.86 Q787.134 1543.86 789.472 1541.75 Q791.81 1539.64 791.81 1536.03 Q791.81 1532.42 789.472 1530.31 Q787.134 1528.21 783.129 1528.21 Q781.254 1528.21 779.379 1528.62 Q777.527 1529.04 775.583 1529.92 L775.583 1512.56 Z\" fill=\"#000000\" fill-rule=\"evenodd\" fill-opacity=\"1\" /><path clip-path=\"url(#clip900)\" d=\"M 0 0 M1245.33 1515.64 Q1241.71 1515.64 1239.89 1519.2 Q1238.08 1522.75 1238.08 1529.87 Q1238.08 1536.98 1239.89 1540.55 Q1241.71 1544.09 1245.33 1544.09 Q1248.96 1544.09 1250.77 1540.55 Q1252.59 1536.98 1252.59 1529.87 Q1252.59 1522.75 1250.77 1519.2 Q1248.96 1515.64 1245.33 1515.64 M1245.33 1511.93 Q1251.14 1511.93 1254.19 1516.54 Q1257.27 1521.12 1257.27 1529.87 Q1257.27 1538.6 1254.19 1543.21 Q1251.14 1547.79 1245.33 1547.79 Q1239.52 1547.79 1236.44 1543.21 Q1233.38 1538.6 1233.38 1529.87 Q1233.38 1521.12 1236.44 1516.54 Q1239.52 1511.93 1245.33 1511.93 Z\" fill=\"#000000\" fill-rule=\"evenodd\" fill-opacity=\"1\" /><path clip-path=\"url(#clip900)\" d=\"M 0 0 M1262.34 1541.24 L1267.22 1541.24 L1267.22 1547.12 L1262.34 1547.12 L1262.34 1541.24 Z\" fill=\"#000000\" fill-rule=\"evenodd\" fill-opacity=\"1\" /><path clip-path=\"url(#clip900)\" d=\"M 0 0 M1282.29 1515.64 Q1278.68 1515.64 1276.85 1519.2 Q1275.05 1522.75 1275.05 1529.87 Q1275.05 1536.98 1276.85 1540.55 Q1278.68 1544.09 1282.29 1544.09 Q1285.93 1544.09 1287.73 1540.55 Q1289.56 1536.98 1289.56 1529.87 Q1289.56 1522.75 1287.73 1519.2 Q1285.93 1515.64 1282.29 1515.64 M1282.29 1511.93 Q1288.1 1511.93 1291.16 1516.54 Q1294.24 1521.12 1294.24 1529.87 Q1294.24 1538.6 1291.16 1543.21 Q1288.1 1547.79 1282.29 1547.79 Q1276.48 1547.79 1273.4 1543.21 Q1270.35 1538.6 1270.35 1529.87 Q1270.35 1521.12 1273.4 1516.54 Q1276.48 1511.93 1282.29 1511.93 Z\" fill=\"#000000\" fill-rule=\"evenodd\" fill-opacity=\"1\" /><path clip-path=\"url(#clip900)\" d=\"M 0 0 M1759.48 1515.64 Q1755.87 1515.64 1754.04 1519.2 Q1752.23 1522.75 1752.23 1529.87 Q1752.23 1536.98 1754.04 1540.55 Q1755.87 1544.09 1759.48 1544.09 Q1763.11 1544.09 1764.92 1540.55 Q1766.75 1536.98 1766.75 1529.87 Q1766.75 1522.75 1764.92 1519.2 Q1763.11 1515.64 1759.48 1515.64 M1759.48 1511.93 Q1765.29 1511.93 1768.34 1516.54 Q1771.42 1521.12 1771.42 1529.87 Q1771.42 1538.6 1768.34 1543.21 Q1765.29 1547.79 1759.48 1547.79 Q1753.67 1547.79 1750.59 1543.21 Q1747.53 1538.6 1747.53 1529.87 Q1747.53 1521.12 1750.59 1516.54 Q1753.67 1511.93 1759.48 1511.93 Z\" fill=\"#000000\" fill-rule=\"evenodd\" fill-opacity=\"1\" /><path clip-path=\"url(#clip900)\" d=\"M 0 0 M1776.49 1541.24 L1781.38 1541.24 L1781.38 1547.12 L1776.49 1547.12 L1776.49 1541.24 Z\" fill=\"#000000\" fill-rule=\"evenodd\" fill-opacity=\"1\" /><path clip-path=\"url(#clip900)\" d=\"M 0 0 M1786.49 1512.56 L1804.85 1512.56 L1804.85 1516.5 L1790.77 1516.5 L1790.77 1524.97 Q1791.79 1524.62 1792.81 1524.46 Q1793.83 1524.27 1794.85 1524.27 Q1800.63 1524.27 1804.01 1527.44 Q1807.39 1530.62 1807.39 1536.03 Q1807.39 1541.61 1803.92 1544.71 Q1800.45 1547.79 1794.13 1547.79 Q1791.95 1547.79 1789.69 1547.42 Q1787.44 1547.05 1785.03 1546.31 L1785.03 1541.61 Q1787.12 1542.74 1789.34 1543.3 Q1791.56 1543.86 1794.04 1543.86 Q1798.04 1543.86 1800.38 1541.75 Q1802.72 1539.64 1802.72 1536.03 Q1802.72 1532.42 1800.38 1530.31 Q1798.04 1528.21 1794.04 1528.21 Q1792.16 1528.21 1790.29 1528.62 Q1788.44 1529.04 1786.49 1529.92 L1786.49 1512.56 Z\" fill=\"#000000\" fill-rule=\"evenodd\" fill-opacity=\"1\" /><path clip-path=\"url(#clip900)\" d=\"M 0 0 M2263.02 1543.18 L2270.65 1543.18 L2270.65 1516.82 L2262.34 1518.49 L2262.34 1514.23 L2270.61 1512.56 L2275.28 1512.56 L2275.28 1543.18 L2282.92 1543.18 L2282.92 1547.12 L2263.02 1547.12 L2263.02 1543.18 Z\" fill=\"#000000\" fill-rule=\"evenodd\" fill-opacity=\"1\" /><path clip-path=\"url(#clip900)\" d=\"M 0 0 M2287.99 1541.24 L2292.88 1541.24 L2292.88 1547.12 L2287.99 1547.12 L2287.99 1541.24 Z\" fill=\"#000000\" fill-rule=\"evenodd\" fill-opacity=\"1\" /><path clip-path=\"url(#clip900)\" d=\"M 0 0 M2307.95 1515.64 Q2304.33 1515.64 2302.51 1519.2 Q2300.7 1522.75 2300.7 1529.87 Q2300.7 1536.98 2302.51 1540.55 Q2304.33 1544.09 2307.95 1544.09 Q2311.58 1544.09 2313.39 1540.55 Q2315.21 1536.98 2315.21 1529.87 Q2315.21 1522.75 2313.39 1519.2 Q2311.58 1515.64 2307.95 1515.64 M2307.95 1511.93 Q2313.76 1511.93 2316.81 1516.54 Q2319.89 1521.12 2319.89 1529.87 Q2319.89 1538.6 2316.81 1543.21 Q2313.76 1547.79 2307.95 1547.79 Q2302.14 1547.79 2299.06 1543.21 Q2296 1538.6 2296 1529.87 Q2296 1521.12 2299.06 1516.54 Q2302.14 1511.93 2307.95 1511.93 Z\" fill=\"#000000\" fill-rule=\"evenodd\" fill-opacity=\"1\" /><polyline clip-path=\"url(#clip902)\" style=\"stroke:#000000; stroke-width:2; stroke-opacity:0.1; fill:none\" points=\"\n",
       "  174.862,1445.85 2352.76,1445.85 \n",
       "  \"/>\n",
       "<polyline clip-path=\"url(#clip902)\" style=\"stroke:#000000; stroke-width:2; stroke-opacity:0.1; fill:none\" points=\"\n",
       "  174.862,1106.38 2352.76,1106.38 \n",
       "  \"/>\n",
       "<polyline clip-path=\"url(#clip902)\" style=\"stroke:#000000; stroke-width:2; stroke-opacity:0.1; fill:none\" points=\"\n",
       "  174.862,766.915 2352.76,766.915 \n",
       "  \"/>\n",
       "<polyline clip-path=\"url(#clip902)\" style=\"stroke:#000000; stroke-width:2; stroke-opacity:0.1; fill:none\" points=\"\n",
       "  174.862,427.446 2352.76,427.446 \n",
       "  \"/>\n",
       "<polyline clip-path=\"url(#clip902)\" style=\"stroke:#000000; stroke-width:2; stroke-opacity:0.1; fill:none\" points=\"\n",
       "  174.862,87.9763 2352.76,87.9763 \n",
       "  \"/>\n",
       "<polyline clip-path=\"url(#clip900)\" style=\"stroke:#000000; stroke-width:4; stroke-opacity:1; fill:none\" points=\"\n",
       "  174.862,1486.45 174.862,47.2441 \n",
       "  \"/>\n",
       "<polyline clip-path=\"url(#clip900)\" style=\"stroke:#000000; stroke-width:4; stroke-opacity:1; fill:none\" points=\"\n",
       "  174.862,1445.85 200.997,1445.85 \n",
       "  \"/>\n",
       "<polyline clip-path=\"url(#clip900)\" style=\"stroke:#000000; stroke-width:4; stroke-opacity:1; fill:none\" points=\"\n",
       "  174.862,1106.38 200.997,1106.38 \n",
       "  \"/>\n",
       "<polyline clip-path=\"url(#clip900)\" style=\"stroke:#000000; stroke-width:4; stroke-opacity:1; fill:none\" points=\"\n",
       "  174.862,766.915 200.997,766.915 \n",
       "  \"/>\n",
       "<polyline clip-path=\"url(#clip900)\" style=\"stroke:#000000; stroke-width:4; stroke-opacity:1; fill:none\" points=\"\n",
       "  174.862,427.446 200.997,427.446 \n",
       "  \"/>\n",
       "<polyline clip-path=\"url(#clip900)\" style=\"stroke:#000000; stroke-width:4; stroke-opacity:1; fill:none\" points=\"\n",
       "  174.862,87.9763 200.997,87.9763 \n",
       "  \"/>\n",
       "<path clip-path=\"url(#clip900)\" d=\"M 0 0 M62.9365 1431.65 Q59.3254 1431.65 57.4967 1435.22 Q55.6912 1438.76 55.6912 1445.89 Q55.6912 1453 57.4967 1456.56 Q59.3254 1460.1 62.9365 1460.1 Q66.5707 1460.1 68.3763 1456.56 Q70.205 1453 70.205 1445.89 Q70.205 1438.76 68.3763 1435.22 Q66.5707 1431.65 62.9365 1431.65 M62.9365 1427.95 Q68.7467 1427.95 71.8022 1432.56 Q74.8809 1437.14 74.8809 1445.89 Q74.8809 1454.62 71.8022 1459.22 Q68.7467 1463.81 62.9365 1463.81 Q57.1264 1463.81 54.0477 1459.22 Q50.9921 1454.62 50.9921 1445.89 Q50.9921 1437.14 54.0477 1432.56 Q57.1264 1427.95 62.9365 1427.95 Z\" fill=\"#000000\" fill-rule=\"evenodd\" fill-opacity=\"1\" /><path clip-path=\"url(#clip900)\" d=\"M 0 0 M79.9503 1457.25 L84.8345 1457.25 L84.8345 1463.13 L79.9503 1463.13 L79.9503 1457.25 Z\" fill=\"#000000\" fill-rule=\"evenodd\" fill-opacity=\"1\" /><path clip-path=\"url(#clip900)\" d=\"M 0 0 M99.9039 1431.65 Q96.2928 1431.65 94.4641 1435.22 Q92.6586 1438.76 92.6586 1445.89 Q92.6586 1453 94.4641 1456.56 Q96.2928 1460.1 99.9039 1460.1 Q103.538 1460.1 105.344 1456.56 Q107.172 1453 107.172 1445.89 Q107.172 1438.76 105.344 1435.22 Q103.538 1431.65 99.9039 1431.65 M99.9039 1427.95 Q105.714 1427.95 108.77 1432.56 Q111.848 1437.14 111.848 1445.89 Q111.848 1454.62 108.77 1459.22 Q105.714 1463.81 99.9039 1463.81 Q94.0937 1463.81 91.0151 1459.22 Q87.9595 1454.62 87.9595 1445.89 Q87.9595 1437.14 91.0151 1432.56 Q94.0937 1427.95 99.9039 1427.95 Z\" fill=\"#000000\" fill-rule=\"evenodd\" fill-opacity=\"1\" /><path clip-path=\"url(#clip900)\" d=\"M 0 0 M126.918 1431.65 Q123.307 1431.65 121.478 1435.22 Q119.672 1438.76 119.672 1445.89 Q119.672 1453 121.478 1456.56 Q123.307 1460.1 126.918 1460.1 Q130.552 1460.1 132.357 1456.56 Q134.186 1453 134.186 1445.89 Q134.186 1438.76 132.357 1435.22 Q130.552 1431.65 126.918 1431.65 M126.918 1427.95 Q132.728 1427.95 135.783 1432.56 Q138.862 1437.14 138.862 1445.89 Q138.862 1454.62 135.783 1459.22 Q132.728 1463.81 126.918 1463.81 Q121.107 1463.81 118.029 1459.22 Q114.973 1454.62 114.973 1445.89 Q114.973 1437.14 118.029 1432.56 Q121.107 1427.95 126.918 1427.95 Z\" fill=\"#000000\" fill-rule=\"evenodd\" fill-opacity=\"1\" /><path clip-path=\"url(#clip900)\" d=\"M 0 0 M65.5291 1092.18 Q61.918 1092.18 60.0893 1095.75 Q58.2838 1099.29 58.2838 1106.42 Q58.2838 1113.53 60.0893 1117.09 Q61.918 1120.63 65.5291 1120.63 Q69.1633 1120.63 70.9689 1117.09 Q72.7976 1113.53 72.7976 1106.42 Q72.7976 1099.29 70.9689 1095.75 Q69.1633 1092.18 65.5291 1092.18 M65.5291 1088.48 Q71.3392 1088.48 74.3948 1093.09 Q77.4735 1097.67 77.4735 1106.42 Q77.4735 1115.15 74.3948 1119.75 Q71.3392 1124.34 65.5291 1124.34 Q59.7189 1124.34 56.6402 1119.75 Q53.5847 1115.15 53.5847 1106.42 Q53.5847 1097.67 56.6402 1093.09 Q59.7189 1088.48 65.5291 1088.48 Z\" fill=\"#000000\" fill-rule=\"evenodd\" fill-opacity=\"1\" /><path clip-path=\"url(#clip900)\" d=\"M 0 0 M82.5429 1117.79 L87.4271 1117.79 L87.4271 1123.66 L82.5429 1123.66 L82.5429 1117.79 Z\" fill=\"#000000\" fill-rule=\"evenodd\" fill-opacity=\"1\" /><path clip-path=\"url(#clip900)\" d=\"M 0 0 M96.5243 1119.73 L112.844 1119.73 L112.844 1123.66 L90.8993 1123.66 L90.8993 1119.73 Q93.5613 1116.97 98.1447 1112.35 Q102.751 1107.69 103.932 1106.35 Q106.177 1103.83 107.057 1102.09 Q107.959 1100.33 107.959 1098.64 Q107.959 1095.89 106.015 1094.15 Q104.094 1092.41 100.992 1092.41 Q98.7928 1092.41 96.3391 1093.18 Q93.9086 1093.94 91.1308 1095.49 L91.1308 1090.77 Q93.9549 1089.64 96.4085 1089.06 Q98.8622 1088.48 100.899 1088.48 Q106.27 1088.48 109.464 1091.16 Q112.658 1093.85 112.658 1098.34 Q112.658 1100.47 111.848 1102.39 Q111.061 1104.29 108.955 1106.88 Q108.376 1107.55 105.274 1110.77 Q102.172 1113.97 96.5243 1119.73 Z\" fill=\"#000000\" fill-rule=\"evenodd\" fill-opacity=\"1\" /><path clip-path=\"url(#clip900)\" d=\"M 0 0 M117.959 1089.1 L136.316 1089.1 L136.316 1093.04 L122.242 1093.04 L122.242 1101.51 Q123.26 1101.16 124.279 1101 Q125.297 1100.82 126.316 1100.82 Q132.103 1100.82 135.482 1103.99 Q138.862 1107.16 138.862 1112.58 Q138.862 1118.16 135.39 1121.26 Q131.918 1124.34 125.598 1124.34 Q123.422 1124.34 121.154 1123.97 Q118.908 1123.6 116.501 1122.85 L116.501 1118.16 Q118.584 1119.29 120.807 1119.85 Q123.029 1120.4 125.506 1120.4 Q129.51 1120.4 131.848 1118.29 Q134.186 1116.19 134.186 1112.58 Q134.186 1108.97 131.848 1106.86 Q129.51 1104.75 125.506 1104.75 Q123.631 1104.75 121.756 1105.17 Q119.904 1105.59 117.959 1106.47 L117.959 1089.1 Z\" fill=\"#000000\" fill-rule=\"evenodd\" fill-opacity=\"1\" /><path clip-path=\"url(#clip900)\" d=\"M 0 0 M63.9319 752.714 Q60.3208 752.714 58.4921 756.279 Q56.6865 759.82 56.6865 766.95 Q56.6865 774.056 58.4921 777.621 Q60.3208 781.163 63.9319 781.163 Q67.5661 781.163 69.3717 777.621 Q71.2004 774.056 71.2004 766.95 Q71.2004 759.82 69.3717 756.279 Q67.5661 752.714 63.9319 752.714 M63.9319 749.01 Q69.742 749.01 72.7976 753.617 Q75.8763 758.2 75.8763 766.95 Q75.8763 775.677 72.7976 780.283 Q69.742 784.867 63.9319 784.867 Q58.1217 784.867 55.043 780.283 Q51.9875 775.677 51.9875 766.95 Q51.9875 758.2 55.043 753.617 Q58.1217 749.01 63.9319 749.01 Z\" fill=\"#000000\" fill-rule=\"evenodd\" fill-opacity=\"1\" /><path clip-path=\"url(#clip900)\" d=\"M 0 0 M80.9457 778.316 L85.8299 778.316 L85.8299 784.195 L80.9457 784.195 L80.9457 778.316 Z\" fill=\"#000000\" fill-rule=\"evenodd\" fill-opacity=\"1\" /><path clip-path=\"url(#clip900)\" d=\"M 0 0 M90.9456 749.635 L109.302 749.635 L109.302 753.57 L95.228 753.57 L95.228 762.043 Q96.2465 761.695 97.265 761.533 Q98.2835 761.348 99.3021 761.348 Q105.089 761.348 108.469 764.519 Q111.848 767.691 111.848 773.107 Q111.848 778.686 108.376 781.788 Q104.904 784.867 98.5845 784.867 Q96.4085 784.867 94.14 784.496 Q91.8947 784.126 89.4873 783.385 L89.4873 778.686 Q91.5706 779.82 93.7928 780.376 Q96.015 780.931 98.4919 780.931 Q102.496 780.931 104.834 778.825 Q107.172 776.718 107.172 773.107 Q107.172 769.496 104.834 767.39 Q102.496 765.283 98.4919 765.283 Q96.6169 765.283 94.7419 765.7 Q92.89 766.117 90.9456 766.996 L90.9456 749.635 Z\" fill=\"#000000\" fill-rule=\"evenodd\" fill-opacity=\"1\" /><path clip-path=\"url(#clip900)\" d=\"M 0 0 M126.918 752.714 Q123.307 752.714 121.478 756.279 Q119.672 759.82 119.672 766.95 Q119.672 774.056 121.478 777.621 Q123.307 781.163 126.918 781.163 Q130.552 781.163 132.357 777.621 Q134.186 774.056 134.186 766.95 Q134.186 759.82 132.357 756.279 Q130.552 752.714 126.918 752.714 M126.918 749.01 Q132.728 749.01 135.783 753.617 Q138.862 758.2 138.862 766.95 Q138.862 775.677 135.783 780.283 Q132.728 784.867 126.918 784.867 Q121.107 784.867 118.029 780.283 Q114.973 775.677 114.973 766.95 Q114.973 758.2 118.029 753.617 Q121.107 749.01 126.918 749.01 Z\" fill=\"#000000\" fill-rule=\"evenodd\" fill-opacity=\"1\" /><path clip-path=\"url(#clip900)\" d=\"M 0 0 M64.8346 413.244 Q61.2236 413.244 59.3949 416.809 Q57.5893 420.351 57.5893 427.48 Q57.5893 434.587 59.3949 438.152 Q61.2236 441.693 64.8346 441.693 Q68.4689 441.693 70.2744 438.152 Q72.1031 434.587 72.1031 427.48 Q72.1031 420.351 70.2744 416.809 Q68.4689 413.244 64.8346 413.244 M64.8346 409.541 Q70.6448 409.541 73.7003 414.147 Q76.779 418.731 76.779 427.48 Q76.779 436.207 73.7003 440.814 Q70.6448 445.397 64.8346 445.397 Q59.0245 445.397 55.9458 440.814 Q52.8903 436.207 52.8903 427.48 Q52.8903 418.731 55.9458 414.147 Q59.0245 409.541 64.8346 409.541 Z\" fill=\"#000000\" fill-rule=\"evenodd\" fill-opacity=\"1\" /><path clip-path=\"url(#clip900)\" d=\"M 0 0 M81.8484 438.846 L86.7327 438.846 L86.7327 444.726 L81.8484 444.726 L81.8484 438.846 Z\" fill=\"#000000\" fill-rule=\"evenodd\" fill-opacity=\"1\" /><path clip-path=\"url(#clip900)\" d=\"M 0 0 M90.6215 410.166 L112.844 410.166 L112.844 412.156 L100.297 444.726 L95.4132 444.726 L107.219 414.101 L90.6215 414.101 L90.6215 410.166 Z\" fill=\"#000000\" fill-rule=\"evenodd\" fill-opacity=\"1\" /><path clip-path=\"url(#clip900)\" d=\"M 0 0 M117.959 410.166 L136.316 410.166 L136.316 414.101 L122.242 414.101 L122.242 422.573 Q123.26 422.226 124.279 422.064 Q125.297 421.879 126.316 421.879 Q132.103 421.879 135.482 425.05 Q138.862 428.221 138.862 433.638 Q138.862 439.217 135.39 442.318 Q131.918 445.397 125.598 445.397 Q123.422 445.397 121.154 445.027 Q118.908 444.656 116.501 443.916 L116.501 439.217 Q118.584 440.351 120.807 440.906 Q123.029 441.462 125.506 441.462 Q129.51 441.462 131.848 439.355 Q134.186 437.249 134.186 433.638 Q134.186 430.027 131.848 427.92 Q129.51 425.814 125.506 425.814 Q123.631 425.814 121.756 426.23 Q119.904 426.647 117.959 427.527 L117.959 410.166 Z\" fill=\"#000000\" fill-rule=\"evenodd\" fill-opacity=\"1\" /><path clip-path=\"url(#clip900)\" d=\"M 0 0 M54.9736 101.321 L62.6124 101.321 L62.6124 74.9555 L54.3023 76.6222 L54.3023 72.3629 L62.5661 70.6963 L67.242 70.6963 L67.242 101.321 L74.8809 101.321 L74.8809 105.256 L54.9736 105.256 L54.9736 101.321 Z\" fill=\"#000000\" fill-rule=\"evenodd\" fill-opacity=\"1\" /><path clip-path=\"url(#clip900)\" d=\"M 0 0 M79.9503 99.3767 L84.8345 99.3767 L84.8345 105.256 L79.9503 105.256 L79.9503 99.3767 Z\" fill=\"#000000\" fill-rule=\"evenodd\" fill-opacity=\"1\" /><path clip-path=\"url(#clip900)\" d=\"M 0 0 M99.9039 73.775 Q96.2928 73.775 94.4641 77.3398 Q92.6586 80.8814 92.6586 88.011 Q92.6586 95.1174 94.4641 98.6822 Q96.2928 102.224 99.9039 102.224 Q103.538 102.224 105.344 98.6822 Q107.172 95.1174 107.172 88.011 Q107.172 80.8814 105.344 77.3398 Q103.538 73.775 99.9039 73.775 M99.9039 70.0713 Q105.714 70.0713 108.77 74.6777 Q111.848 79.261 111.848 88.011 Q111.848 96.7378 108.77 101.344 Q105.714 105.928 99.9039 105.928 Q94.0937 105.928 91.0151 101.344 Q87.9595 96.7378 87.9595 88.011 Q87.9595 79.261 91.0151 74.6777 Q94.0937 70.0713 99.9039 70.0713 Z\" fill=\"#000000\" fill-rule=\"evenodd\" fill-opacity=\"1\" /><path clip-path=\"url(#clip900)\" d=\"M 0 0 M126.918 73.775 Q123.307 73.775 121.478 77.3398 Q119.672 80.8814 119.672 88.011 Q119.672 95.1174 121.478 98.6822 Q123.307 102.224 126.918 102.224 Q130.552 102.224 132.357 98.6822 Q134.186 95.1174 134.186 88.011 Q134.186 80.8814 132.357 77.3398 Q130.552 73.775 126.918 73.775 M126.918 70.0713 Q132.728 70.0713 135.783 74.6777 Q138.862 79.261 138.862 88.011 Q138.862 96.7378 135.783 101.344 Q132.728 105.928 126.918 105.928 Q121.107 105.928 118.029 101.344 Q114.973 96.7378 114.973 88.011 Q114.973 79.261 118.029 74.6777 Q121.107 70.0713 126.918 70.0713 Z\" fill=\"#000000\" fill-rule=\"evenodd\" fill-opacity=\"1\" /><polyline clip-path=\"url(#clip902)\" style=\"stroke:#009af9; stroke-width:4; stroke-opacity:1; fill:none\" points=\"\n",
       "  236.501,87.9763 257.254,142.286 278.008,195.487 298.762,247.58 319.515,298.564 340.269,348.441 361.023,397.208 381.776,444.868 402.53,491.419 423.284,536.862 \n",
       "  444.038,581.196 464.791,624.422 485.545,666.54 506.299,707.549 527.052,747.45 547.806,786.242 568.56,823.926 589.314,860.502 610.067,895.97 630.821,930.329 \n",
       "  651.575,963.58 672.328,995.722 693.082,1026.76 713.836,1056.68 734.589,1085.5 755.343,1113.21 776.097,1139.81 796.851,1165.3 817.604,1189.68 838.358,1212.96 \n",
       "  859.112,1235.13 879.865,1256.19 900.619,1276.14 921.373,1294.98 942.127,1312.71 962.88,1329.34 983.634,1344.86 1004.39,1359.26 1025.14,1372.56 1045.9,1384.76 \n",
       "  1066.65,1395.84 1087.4,1405.81 1108.16,1414.68 1128.91,1422.44 1149.66,1429.09 1170.42,1434.63 1191.17,1439.07 1211.92,1442.39 1232.68,1444.61 1253.43,1445.72 \n",
       "  1274.19,1445.72 1294.94,1444.61 1315.69,1442.39 1336.45,1439.07 1357.2,1434.63 1377.95,1429.09 1398.71,1422.44 1419.46,1414.68 1440.22,1405.81 1460.97,1395.84 \n",
       "  1481.72,1384.76 1502.48,1372.56 1523.23,1359.26 1543.98,1344.86 1564.74,1329.34 1585.49,1312.71 1606.25,1294.98 1627,1276.14 1647.75,1256.19 1668.51,1235.13 \n",
       "  1689.26,1212.96 1710.01,1189.68 1730.77,1165.3 1751.52,1139.81 1772.27,1113.21 1793.03,1085.5 1813.78,1056.68 1834.54,1026.76 1855.29,995.722 1876.04,963.58 \n",
       "  1896.8,930.329 1917.55,895.97 1938.3,860.502 1959.06,823.926 1979.81,786.242 2000.57,747.45 2021.32,707.549 2042.07,666.54 2062.83,624.422 2083.58,581.196 \n",
       "  2104.33,536.862 2125.09,491.419 2145.84,444.868 2166.6,397.208 2187.35,348.441 2208.1,298.564 2228.86,247.58 2249.61,195.487 2270.36,142.286 2291.12,87.9763 \n",
       "  \n",
       "  \"/>\n",
       "<polyline clip-path=\"url(#clip902)\" style=\"stroke:#e26f46; stroke-width:4; stroke-opacity:1; fill:none\" points=\"\n",
       "  236.501,87.9763 257.254,115.408 278.008,142.84 298.762,170.272 319.515,197.704 340.269,225.136 361.023,252.568 381.776,279.999 402.53,307.431 423.284,334.863 \n",
       "  444.038,362.295 464.791,389.727 485.545,417.159 506.299,444.591 527.052,472.023 547.806,499.454 568.56,526.886 589.314,554.318 610.067,581.75 630.821,609.182 \n",
       "  651.575,636.614 672.328,664.046 693.082,691.478 713.836,718.909 734.589,746.341 755.343,773.773 776.097,801.205 796.851,828.637 817.604,856.069 838.358,883.501 \n",
       "  859.112,910.933 879.865,938.364 900.619,965.796 921.373,993.228 942.127,1020.66 962.88,1048.09 983.634,1075.52 1004.39,1102.96 1025.14,1130.39 1045.9,1157.82 \n",
       "  1066.65,1185.25 1087.4,1212.68 1108.16,1240.12 1128.91,1267.55 1149.66,1294.98 1170.42,1322.41 1191.17,1349.84 1211.92,1377.27 1232.68,1404.71 1253.43,1432.14 \n",
       "  1274.19,1432.14 1294.94,1404.71 1315.69,1377.27 1336.45,1349.84 1357.2,1322.41 1377.95,1294.98 1398.71,1267.55 1419.46,1240.12 1440.22,1212.68 1460.97,1185.25 \n",
       "  1481.72,1157.82 1502.48,1130.39 1523.23,1102.96 1543.98,1075.52 1564.74,1048.09 1585.49,1020.66 1606.25,993.228 1627,965.796 1647.75,938.364 1668.51,910.933 \n",
       "  1689.26,883.501 1710.01,856.069 1730.77,828.637 1751.52,801.205 1772.27,773.773 1793.03,746.341 1813.78,718.909 1834.54,691.478 1855.29,664.046 1876.04,636.614 \n",
       "  1896.8,609.182 1917.55,581.75 1938.3,554.318 1959.06,526.886 1979.81,499.454 2000.57,472.023 2021.32,444.591 2042.07,417.159 2062.83,389.727 2083.58,362.295 \n",
       "  2104.33,334.863 2125.09,307.431 2145.84,279.999 2166.6,252.568 2187.35,225.136 2208.1,197.704 2228.86,170.272 2249.61,142.84 2270.36,115.408 2291.12,87.9763 \n",
       "  \n",
       "  \"/>\n",
       "<path clip-path=\"url(#clip900)\" d=\"\n",
       "M1737.13 276.658 L2280.16 276.658 L2280.16 95.2176 L1737.13 95.2176  Z\n",
       "  \" fill=\"#ffffff\" fill-rule=\"evenodd\" fill-opacity=\"1\"/>\n",
       "<polyline clip-path=\"url(#clip900)\" style=\"stroke:#000000; stroke-width:4; stroke-opacity:1; fill:none\" points=\"\n",
       "  1737.13,276.658 2280.16,276.658 2280.16,95.2176 1737.13,95.2176 1737.13,276.658 \n",
       "  \"/>\n",
       "<polyline clip-path=\"url(#clip900)\" style=\"stroke:#009af9; stroke-width:4; stroke-opacity:1; fill:none\" points=\"\n",
       "  1761.33,155.698 1906.52,155.698 \n",
       "  \"/>\n",
       "<path clip-path=\"url(#clip900)\" d=\"M 0 0 M1938.13 139.691 L1938.13 147.052 L1946.9 147.052 L1946.9 150.362 L1938.13 150.362 L1938.13 164.436 Q1938.13 167.607 1938.99 168.51 Q1939.87 169.413 1942.53 169.413 L1946.9 169.413 L1946.9 172.978 L1942.53 172.978 Q1937.6 172.978 1935.72 171.149 Q1933.85 169.297 1933.85 164.436 L1933.85 150.362 L1930.72 150.362 L1930.72 147.052 L1933.85 147.052 L1933.85 139.691 L1938.13 139.691 Z\" fill=\"#000000\" fill-rule=\"evenodd\" fill-opacity=\"1\" /><path clip-path=\"url(#clip900)\" d=\"M 0 0 M1966.39 151.033 Q1965.68 150.617 1964.82 150.431 Q1963.99 150.223 1962.97 150.223 Q1959.36 150.223 1957.41 152.584 Q1955.49 154.922 1955.49 159.32 L1955.49 172.978 L1951.21 172.978 L1951.21 147.052 L1955.49 147.052 L1955.49 151.08 Q1956.83 148.718 1958.99 147.584 Q1961.14 146.427 1964.22 146.427 Q1964.66 146.427 1965.19 146.496 Q1965.72 146.543 1966.37 146.658 L1966.39 151.033 Z\" fill=\"#000000\" fill-rule=\"evenodd\" fill-opacity=\"1\" /><path clip-path=\"url(#clip900)\" d=\"M 0 0 M1970.42 162.746 L1970.42 147.052 L1974.68 147.052 L1974.68 162.584 Q1974.68 166.265 1976.12 168.116 Q1977.55 169.945 1980.42 169.945 Q1983.87 169.945 1985.86 167.746 Q1987.87 165.547 1987.87 161.751 L1987.87 147.052 L1992.13 147.052 L1992.13 172.978 L1987.87 172.978 L1987.87 168.996 Q1986.32 171.357 1984.26 172.515 Q1982.23 173.649 1979.52 173.649 Q1975.05 173.649 1972.74 170.871 Q1970.42 168.093 1970.42 162.746 M1981.14 146.427 L1981.14 146.427 Z\" fill=\"#000000\" fill-rule=\"evenodd\" fill-opacity=\"1\" /><path clip-path=\"url(#clip900)\" d=\"M 0 0 M2018.78 158.95 L2018.78 161.033 L1999.19 161.033 Q1999.47 165.431 2001.83 167.746 Q2004.22 170.038 2008.45 170.038 Q2010.91 170.038 2013.2 169.436 Q2015.51 168.834 2017.78 167.63 L2017.78 171.658 Q2015.49 172.63 2013.08 173.14 Q2010.68 173.649 2008.2 173.649 Q2001.99 173.649 1998.36 170.038 Q1994.75 166.427 1994.75 160.269 Q1994.75 153.904 1998.18 150.177 Q2001.62 146.427 2007.46 146.427 Q2012.69 146.427 2015.72 149.806 Q2018.78 153.163 2018.78 158.95 M2014.52 157.7 Q2014.47 154.205 2012.55 152.121 Q2010.65 150.038 2007.5 150.038 Q2003.94 150.038 2001.79 152.052 Q1999.66 154.066 1999.33 157.723 L2014.52 157.7 Z\" fill=\"#000000\" fill-rule=\"evenodd\" fill-opacity=\"1\" /><polyline clip-path=\"url(#clip900)\" style=\"stroke:#e26f46; stroke-width:4; stroke-opacity:1; fill:none\" points=\"\n",
       "  1761.33,216.178 1906.52,216.178 \n",
       "  \"/>\n",
       "<path clip-path=\"url(#clip900)\" d=\"M 0 0 M1944.12 220.425 Q1938.96 220.425 1936.97 221.606 Q1934.98 222.786 1934.98 225.634 Q1934.98 227.902 1936.46 229.245 Q1937.97 230.564 1940.54 230.564 Q1944.08 230.564 1946.21 228.064 Q1948.36 225.541 1948.36 221.374 L1948.36 220.425 L1944.12 220.425 M1952.62 218.666 L1952.62 233.458 L1948.36 233.458 L1948.36 229.522 Q1946.9 231.883 1944.73 233.018 Q1942.55 234.129 1939.4 234.129 Q1935.42 234.129 1933.06 231.907 Q1930.72 229.661 1930.72 225.911 Q1930.72 221.536 1933.64 219.314 Q1936.58 217.092 1942.39 217.092 L1948.36 217.092 L1948.36 216.675 Q1948.36 213.735 1946.42 212.138 Q1944.49 210.518 1941 210.518 Q1938.78 210.518 1936.67 211.05 Q1934.56 211.583 1932.62 212.647 L1932.62 208.712 Q1934.96 207.81 1937.16 207.37 Q1939.36 206.907 1941.44 206.907 Q1947.06 206.907 1949.84 209.823 Q1952.62 212.74 1952.62 218.666 Z\" fill=\"#000000\" fill-rule=\"evenodd\" fill-opacity=\"1\" /><path clip-path=\"url(#clip900)\" d=\"M 0 0 M1961.21 229.569 L1961.21 243.319 L1956.93 243.319 L1956.93 207.532 L1961.21 207.532 L1961.21 211.467 Q1962.55 209.152 1964.59 208.041 Q1966.65 206.907 1969.49 206.907 Q1974.22 206.907 1977.16 210.657 Q1980.12 214.407 1980.12 220.518 Q1980.12 226.629 1977.16 230.379 Q1974.22 234.129 1969.49 234.129 Q1966.65 234.129 1964.59 233.018 Q1962.55 231.883 1961.21 229.569 M1975.7 220.518 Q1975.7 215.819 1973.75 213.157 Q1971.83 210.472 1968.45 210.472 Q1965.07 210.472 1963.13 213.157 Q1961.21 215.819 1961.21 220.518 Q1961.21 225.217 1963.13 227.902 Q1965.07 230.564 1968.45 230.564 Q1971.83 230.564 1973.75 227.902 Q1975.7 225.217 1975.7 220.518 Z\" fill=\"#000000\" fill-rule=\"evenodd\" fill-opacity=\"1\" /><path clip-path=\"url(#clip900)\" d=\"M 0 0 M1988.71 229.569 L1988.71 243.319 L1984.43 243.319 L1984.43 207.532 L1988.71 207.532 L1988.71 211.467 Q1990.05 209.152 1992.09 208.041 Q1994.15 206.907 1996.99 206.907 Q2001.72 206.907 2004.66 210.657 Q2007.62 214.407 2007.62 220.518 Q2007.62 226.629 2004.66 230.379 Q2001.72 234.129 1996.99 234.129 Q1994.15 234.129 1992.09 233.018 Q1990.05 231.883 1988.71 229.569 M2003.2 220.518 Q2003.2 215.819 2001.25 213.157 Q1999.33 210.472 1995.95 210.472 Q1992.57 210.472 1990.63 213.157 Q1988.71 215.819 1988.71 220.518 Q1988.71 225.217 1990.63 227.902 Q1992.57 230.564 1995.95 230.564 Q1999.33 230.564 2001.25 227.902 Q2003.2 225.217 2003.2 220.518 Z\" fill=\"#000000\" fill-rule=\"evenodd\" fill-opacity=\"1\" /><path clip-path=\"url(#clip900)\" d=\"M 0 0 M2027.11 211.513 Q2026.39 211.097 2025.54 210.911 Q2024.7 210.703 2023.68 210.703 Q2020.07 210.703 2018.13 213.064 Q2016.21 215.402 2016.21 219.8 L2016.21 233.458 L2011.93 233.458 L2011.93 207.532 L2016.21 207.532 L2016.21 211.56 Q2017.55 209.198 2019.7 208.064 Q2021.86 206.907 2024.93 206.907 Q2025.37 206.907 2025.91 206.976 Q2026.44 207.023 2027.09 207.138 L2027.11 211.513 Z\" fill=\"#000000\" fill-rule=\"evenodd\" fill-opacity=\"1\" /><path clip-path=\"url(#clip900)\" d=\"M 0 0 M2040.58 210.518 Q2037.16 210.518 2035.17 213.203 Q2033.17 215.865 2033.17 220.518 Q2033.17 225.171 2035.14 227.856 Q2037.13 230.518 2040.58 230.518 Q2043.99 230.518 2045.98 227.833 Q2047.97 225.147 2047.97 220.518 Q2047.97 215.911 2045.98 213.226 Q2043.99 210.518 2040.58 210.518 M2040.58 206.907 Q2046.14 206.907 2049.31 210.518 Q2052.48 214.129 2052.48 220.518 Q2052.48 226.884 2049.31 230.518 Q2046.14 234.129 2040.58 234.129 Q2035 234.129 2031.83 230.518 Q2028.68 226.884 2028.68 220.518 Q2028.68 214.129 2031.83 210.518 Q2035 206.907 2040.58 206.907 Z\" fill=\"#000000\" fill-rule=\"evenodd\" fill-opacity=\"1\" /><path clip-path=\"url(#clip900)\" d=\"M 0 0 M2077.04 207.532 L2067.67 220.147 L2077.53 233.458 L2072.5 233.458 L2064.96 223.272 L2057.41 233.458 L2052.39 233.458 L2062.46 219.893 L2053.24 207.532 L2058.27 207.532 L2065.14 216.768 L2072.02 207.532 L2077.04 207.532 Z\" fill=\"#000000\" fill-rule=\"evenodd\" fill-opacity=\"1\" /><path clip-path=\"url(#clip900)\" d=\"M 0 0 M2081.99 207.532 L2086.25 207.532 L2086.25 233.458 L2081.99 233.458 L2081.99 207.532 M2081.99 197.439 L2086.25 197.439 L2086.25 202.833 L2081.99 202.833 L2081.99 197.439 Z\" fill=\"#000000\" fill-rule=\"evenodd\" fill-opacity=\"1\" /><path clip-path=\"url(#clip900)\" d=\"M 0 0 M2110.91 212.509 Q2112.5 209.638 2114.73 208.273 Q2116.95 206.907 2119.96 206.907 Q2124.01 206.907 2126.21 209.754 Q2128.41 212.578 2128.41 217.809 L2128.41 233.458 L2124.12 233.458 L2124.12 217.948 Q2124.12 214.222 2122.8 212.416 Q2121.48 210.61 2118.78 210.61 Q2115.47 210.61 2113.54 212.81 Q2111.62 215.009 2111.62 218.805 L2111.62 233.458 L2107.34 233.458 L2107.34 217.948 Q2107.34 214.198 2106.02 212.416 Q2104.7 210.61 2101.95 210.61 Q2098.68 210.61 2096.76 212.833 Q2094.84 215.032 2094.84 218.805 L2094.84 233.458 L2090.56 233.458 L2090.56 207.532 L2094.84 207.532 L2094.84 211.56 Q2096.3 209.175 2098.34 208.041 Q2100.37 206.907 2103.17 206.907 Q2106 206.907 2107.97 208.342 Q2109.96 209.777 2110.91 212.509 Z\" fill=\"#000000\" fill-rule=\"evenodd\" fill-opacity=\"1\" /><path clip-path=\"url(#clip900)\" d=\"M 0 0 M2144.66 220.425 Q2139.49 220.425 2137.5 221.606 Q2135.51 222.786 2135.51 225.634 Q2135.51 227.902 2136.99 229.245 Q2138.5 230.564 2141.07 230.564 Q2144.61 230.564 2146.74 228.064 Q2148.89 225.541 2148.89 221.374 L2148.89 220.425 L2144.66 220.425 M2153.15 218.666 L2153.15 233.458 L2148.89 233.458 L2148.89 229.522 Q2147.43 231.883 2145.26 233.018 Q2143.08 234.129 2139.93 234.129 Q2135.95 234.129 2133.59 231.907 Q2131.25 229.661 2131.25 225.911 Q2131.25 221.536 2134.17 219.314 Q2137.11 217.092 2142.92 217.092 L2148.89 217.092 L2148.89 216.675 Q2148.89 213.735 2146.95 212.138 Q2145.03 210.518 2141.53 210.518 Q2139.31 210.518 2137.2 211.05 Q2135.1 211.583 2133.15 212.647 L2133.15 208.712 Q2135.49 207.81 2137.69 207.37 Q2139.89 206.907 2141.97 206.907 Q2147.6 206.907 2150.37 209.823 Q2153.15 212.74 2153.15 218.666 Z\" fill=\"#000000\" fill-rule=\"evenodd\" fill-opacity=\"1\" /><path clip-path=\"url(#clip900)\" d=\"M 0 0 M2161.83 200.171 L2161.83 207.532 L2170.6 207.532 L2170.6 210.842 L2161.83 210.842 L2161.83 224.916 Q2161.83 228.087 2162.69 228.99 Q2163.57 229.893 2166.23 229.893 L2170.6 229.893 L2170.6 233.458 L2166.23 233.458 Q2161.3 233.458 2159.42 231.629 Q2157.55 229.777 2157.55 224.916 L2157.55 210.842 L2154.42 210.842 L2154.42 207.532 L2157.55 207.532 L2157.55 200.171 L2161.83 200.171 Z\" fill=\"#000000\" fill-rule=\"evenodd\" fill-opacity=\"1\" /><path clip-path=\"url(#clip900)\" d=\"M 0 0 M2175.07 207.532 L2179.33 207.532 L2179.33 233.458 L2175.07 233.458 L2175.07 207.532 M2175.07 197.439 L2179.33 197.439 L2179.33 202.833 L2175.07 202.833 L2175.07 197.439 Z\" fill=\"#000000\" fill-rule=\"evenodd\" fill-opacity=\"1\" /><path clip-path=\"url(#clip900)\" d=\"M 0 0 M2193.85 210.518 Q2190.42 210.518 2188.43 213.203 Q2186.44 215.865 2186.44 220.518 Q2186.44 225.171 2188.41 227.856 Q2190.4 230.518 2193.85 230.518 Q2197.25 230.518 2199.24 227.833 Q2201.23 225.147 2201.23 220.518 Q2201.23 215.911 2199.24 213.226 Q2197.25 210.518 2193.85 210.518 M2193.85 206.907 Q2199.4 206.907 2202.57 210.518 Q2205.74 214.129 2205.74 220.518 Q2205.74 226.884 2202.57 230.518 Q2199.4 234.129 2193.85 234.129 Q2188.27 234.129 2185.1 230.518 Q2181.95 226.884 2181.95 220.518 Q2181.95 214.129 2185.1 210.518 Q2188.27 206.907 2193.85 206.907 Z\" fill=\"#000000\" fill-rule=\"evenodd\" fill-opacity=\"1\" /><path clip-path=\"url(#clip900)\" d=\"M 0 0 M2231.76 217.809 L2231.76 233.458 L2227.5 233.458 L2227.5 217.948 Q2227.5 214.268 2226.07 212.439 Q2224.63 210.61 2221.76 210.61 Q2218.31 210.61 2216.32 212.81 Q2214.33 215.009 2214.33 218.805 L2214.33 233.458 L2210.05 233.458 L2210.05 207.532 L2214.33 207.532 L2214.33 211.56 Q2215.86 209.222 2217.92 208.064 Q2220 206.907 2222.71 206.907 Q2227.18 206.907 2229.47 209.685 Q2231.76 212.439 2231.76 217.809 Z\" fill=\"#000000\" fill-rule=\"evenodd\" fill-opacity=\"1\" /></svg>\n"
      ]
     },
     "execution_count": 45,
     "metadata": {},
     "output_type": "execute_result"
    }
   ],
   "source": [
    "using Plots \n",
    "\n",
    "x_grid = range(-1.0, 1.0, length = 100)\n",
    "y_vals = f_ex5.(x_grid)\n",
    "y = g_ex5.(x_grid)\n",
    "plot(x_grid, y_vals, label = \"true\")\n",
    "plot!(x_grid, y, label = \"approximation\")"
   ]
  },
  {
   "cell_type": "markdown",
   "metadata": {},
   "source": [
    "## Exercises 6"
   ]
  },
  {
   "cell_type": "code",
   "execution_count": 46,
   "metadata": {},
   "outputs": [
    {
     "data": {
      "text/plain": [
       "167"
      ]
     },
     "execution_count": 46,
     "metadata": {},
     "output_type": "execute_result"
    }
   ],
   "source": [
    "open(\"us_cities.txt\", \"w\") do f\n",
    "  write(f,\n",
    "\"new york: 8244910\n",
    "los angeles: 3819702\n",
    "chicago: 2707120\n",
    "houston: 2145146\n",
    "philadelphia: 1536471\n",
    "phoenix: 1469471\n",
    "san antonio: 1359758\n",
    "san diego: 1326179\n",
    "dallas: 1223229\")\n",
    "end"
   ]
  },
  {
   "cell_type": "code",
   "execution_count": null,
   "metadata": {},
   "outputs": [],
   "source": [
    "for city in eachline(f)"
   ]
  }
 ],
 "metadata": {
  "kernelspec": {
   "display_name": "Julia 1.5.2",
   "language": "julia",
   "name": "julia-1.5"
  },
  "language_info": {
   "file_extension": ".jl",
   "mimetype": "application/julia",
   "name": "julia",
   "version": "1.5.2"
  }
 },
 "nbformat": 4,
 "nbformat_minor": 4
}
